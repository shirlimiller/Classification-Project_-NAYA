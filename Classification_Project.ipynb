{
  "nbformat": 4,
  "nbformat_minor": 0,
  "metadata": {
    "colab": {
      "name": "Classification Project",
      "provenance": [],
      "collapsed_sections": [],
      "toc_visible": true
    },
    "kernelspec": {
      "display_name": "Python 3",
      "name": "python3"
    },
    "language_info": {
      "name": "python"
    }
  },
  "cells": [
    {
      "cell_type": "markdown",
      "metadata": {
        "id": "vNc3DEEHNw68"
      },
      "source": [
        "#General info"
      ]
    },
    {
      "cell_type": "markdown",
      "metadata": {
        "id": "xFI3FyKyXegO"
      },
      "source": [
        "###What is Stroke ?\n",
        "\n",
        "It happens when the brain's blood vessels become narrowed or blocked, causing severely reduced blood flow.\n",
        "\n",
        "Blocked or narrowed blood vessels are caused by fatty deposits that build up in blood vessels or by blood clots or other debris that travel through your bloodstream and lodge in the blood vessels in your brain."
      ]
    },
    {
      "cell_type": "markdown",
      "metadata": {
        "id": "PJs4IPtEbQfK"
      },
      "source": [
        "1.  id: unique identifier\n",
        "2.  gender: \"Male\", \"Female\" or \"Other\"\n",
        "3.  age: age of the patient\n",
        "4.  hypertension: 0 if the patient doesn't have hypertension, 1 if the patient has hypertension\n",
        "5.  heart_disease: 0 if the patient doesn't have any heart diseases, 1 if the patient has a heart disease\n",
        "6.  ever_married: \"No\" or \"Yes\"\n",
        "7.  work_type: \"children\", \"Govt_jov\", \"Never_worked\", \"Private\" or \"Self-employed\"\n",
        "8.  Residence_type: \"Rural\" or \"Urban\"\n",
        "9.  avg_glucose_level: average glucose level in blood\n",
        "10.  bmi: body mass index\n",
        "11.  smoking_status: \"formerly smoked\", \"never smoked\", \"smokes\" or \"Unknown\"*\n",
        "12.  stroke: 1 if the patient had a stroke or 0 if not"
      ]
    },
    {
      "cell_type": "markdown",
      "metadata": {
        "id": "3q2qRGsXIGec"
      },
      "source": [
        "**Data** : https://www.kaggle.com/fedesoriano/stroke-prediction-dataset"
      ]
    },
    {
      "cell_type": "markdown",
      "metadata": {
        "id": "grwUEyO0EGk_"
      },
      "source": [
        "#Problem Definition\n"
      ]
    },
    {
      "cell_type": "markdown",
      "metadata": {
        "id": "bhx8vDKMN7gN"
      },
      "source": [
        "#Libaries"
      ]
    },
    {
      "cell_type": "code",
      "metadata": {
        "id": "fUKna7DBLqRh"
      },
      "source": [
        "import warnings\n",
        "warnings.filterwarnings('ignore')\n",
        "\n",
        "%matplotlib inline\n",
        "\n",
        "#general tools\n",
        "import numpy as np\n",
        "import pandas as pd\n",
        "import scipy as sp\n",
        "from numpy import mean\n",
        "\n",
        "#SKL\n",
        "from sklearn.preprocessing import LabelEncoder\n",
        "\n",
        "#visualization\n",
        "import matplotlib.pyplot as plt\n",
        "import seaborn as sns\n",
        "\n",
        "# For scoring\n",
        "from sklearn.metrics import mean_squared_log_error as msle\n",
        "from sklearn.metrics import mean_squared_error as mse\n",
        "\n",
        "\n",
        "# import seaborn as sns\n",
        "# import plotly.express as px\n",
        "# import plotly.graph_objects as go\n",
        "from sklearn.model_selection import train_test_split, GridSearchCV\n",
        "from sklearn.preprocessing import StandardScaler\n",
        "# from sklearn.ensemble import AdaBoostClassifier\n",
        "from sklearn.tree import DecisionTreeClassifier\n",
        "from sklearn.model_selection import cross_val_score ,StratifiedShuffleSplit, RepeatedStratifiedKFold\n",
        "from sklearn.feature_selection import SelectKBest, chi2, f_classif, mutual_info_classif\n",
        "from sklearn.linear_model import LogisticRegression\n",
        "# from sklearn.ensemble import GradientBoostingClassifier\n",
        "from sklearn.svm import SVC\n",
        "from sklearn.ensemble import RandomForestClassifier\n",
        "# from sklearn.ensemble import GradientBoostingClassifier\n",
        "from sklearn.metrics import accuracy_score, confusion_matrix, ConfusionMatrixDisplay, classification_report\n",
        "from sklearn.metrics import roc_auc_score, precision_score, recall_score, f1_score, roc_curve\n",
        "from sklearn.metrics import plot_roc_curve, auc, precision_recall_curve, plot_precision_recall_curve, average_precision_score\n",
        "from sklearn.metrics import make_scorer, fbeta_score, matthews_corrcoef, balanced_accuracy_score\n",
        "from imblearn.over_sampling import SMOTE\n",
        "from imblearn.pipeline import Pipeline"
      ],
      "execution_count": null,
      "outputs": []
    },
    {
      "cell_type": "markdown",
      "metadata": {
        "id": "wGi9iTznqI42"
      },
      "source": [
        "# Upload the data"
      ]
    },
    {
      "cell_type": "code",
      "metadata": {
        "id": "yG09YFIBsWFt"
      },
      "source": [
        "def csv_drive_path_generatoer(url):\n",
        " '''\n",
        " Help in read csv file directly from google drive.\n",
        " Make sure the csv format is standard.\n",
        " url:str - path to csv file example:\n",
        "   url = 'https://drive.google.com/file/d/126JPZ3lYwdLyJ2d_7jxM9jMtZaOlF-Ld/view?usp=sharing'\n",
        " return : str\n",
        " '''\n",
        " path = 'https://drive.google.com/uc?export=download&id='+url.split('/')[-2]\n",
        " return path"
      ],
      "execution_count": null,
      "outputs": []
    },
    {
      "cell_type": "code",
      "metadata": {
        "colab": {
          "base_uri": "https://localhost:8080/",
          "height": 258
        },
        "id": "YbFvyfcWshDz",
        "outputId": "21e3b5e2-f89d-4481-8f4e-a99168f71105"
      },
      "source": [
        "path = csv_drive_path_generatoer('https://drive.google.com/file/d/1pPNDUrxfKVM1pmtBmlJ91LsdVbR_fUD5/view?usp=sharing')\n",
        "data = pd.read_csv(path)\n",
        "BU=data.copy(deep = True) \n",
        "data.head()"
      ],
      "execution_count": null,
      "outputs": [
        {
          "output_type": "execute_result",
          "data": {
            "text/html": [
              "<div>\n",
              "<style scoped>\n",
              "    .dataframe tbody tr th:only-of-type {\n",
              "        vertical-align: middle;\n",
              "    }\n",
              "\n",
              "    .dataframe tbody tr th {\n",
              "        vertical-align: top;\n",
              "    }\n",
              "\n",
              "    .dataframe thead th {\n",
              "        text-align: right;\n",
              "    }\n",
              "</style>\n",
              "<table border=\"1\" class=\"dataframe\">\n",
              "  <thead>\n",
              "    <tr style=\"text-align: right;\">\n",
              "      <th></th>\n",
              "      <th>id</th>\n",
              "      <th>gender</th>\n",
              "      <th>age</th>\n",
              "      <th>hypertension</th>\n",
              "      <th>heart_disease</th>\n",
              "      <th>ever_married</th>\n",
              "      <th>work_type</th>\n",
              "      <th>Residence_type</th>\n",
              "      <th>avg_glucose_level</th>\n",
              "      <th>bmi</th>\n",
              "      <th>smoking_status</th>\n",
              "      <th>stroke</th>\n",
              "    </tr>\n",
              "  </thead>\n",
              "  <tbody>\n",
              "    <tr>\n",
              "      <th>0</th>\n",
              "      <td>9046</td>\n",
              "      <td>Male</td>\n",
              "      <td>67.0</td>\n",
              "      <td>0</td>\n",
              "      <td>1</td>\n",
              "      <td>Yes</td>\n",
              "      <td>Private</td>\n",
              "      <td>Urban</td>\n",
              "      <td>228.69</td>\n",
              "      <td>36.6</td>\n",
              "      <td>formerly smoked</td>\n",
              "      <td>1</td>\n",
              "    </tr>\n",
              "    <tr>\n",
              "      <th>1</th>\n",
              "      <td>51676</td>\n",
              "      <td>Female</td>\n",
              "      <td>61.0</td>\n",
              "      <td>0</td>\n",
              "      <td>0</td>\n",
              "      <td>Yes</td>\n",
              "      <td>Self-employed</td>\n",
              "      <td>Rural</td>\n",
              "      <td>202.21</td>\n",
              "      <td>NaN</td>\n",
              "      <td>never smoked</td>\n",
              "      <td>1</td>\n",
              "    </tr>\n",
              "    <tr>\n",
              "      <th>2</th>\n",
              "      <td>31112</td>\n",
              "      <td>Male</td>\n",
              "      <td>80.0</td>\n",
              "      <td>0</td>\n",
              "      <td>1</td>\n",
              "      <td>Yes</td>\n",
              "      <td>Private</td>\n",
              "      <td>Rural</td>\n",
              "      <td>105.92</td>\n",
              "      <td>32.5</td>\n",
              "      <td>never smoked</td>\n",
              "      <td>1</td>\n",
              "    </tr>\n",
              "    <tr>\n",
              "      <th>3</th>\n",
              "      <td>60182</td>\n",
              "      <td>Female</td>\n",
              "      <td>49.0</td>\n",
              "      <td>0</td>\n",
              "      <td>0</td>\n",
              "      <td>Yes</td>\n",
              "      <td>Private</td>\n",
              "      <td>Urban</td>\n",
              "      <td>171.23</td>\n",
              "      <td>34.4</td>\n",
              "      <td>smokes</td>\n",
              "      <td>1</td>\n",
              "    </tr>\n",
              "    <tr>\n",
              "      <th>4</th>\n",
              "      <td>1665</td>\n",
              "      <td>Female</td>\n",
              "      <td>79.0</td>\n",
              "      <td>1</td>\n",
              "      <td>0</td>\n",
              "      <td>Yes</td>\n",
              "      <td>Self-employed</td>\n",
              "      <td>Rural</td>\n",
              "      <td>174.12</td>\n",
              "      <td>24.0</td>\n",
              "      <td>never smoked</td>\n",
              "      <td>1</td>\n",
              "    </tr>\n",
              "  </tbody>\n",
              "</table>\n",
              "</div>"
            ],
            "text/plain": [
              "      id  gender   age  ...   bmi   smoking_status stroke\n",
              "0   9046    Male  67.0  ...  36.6  formerly smoked      1\n",
              "1  51676  Female  61.0  ...   NaN     never smoked      1\n",
              "2  31112    Male  80.0  ...  32.5     never smoked      1\n",
              "3  60182  Female  49.0  ...  34.4           smokes      1\n",
              "4   1665  Female  79.0  ...  24.0     never smoked      1\n",
              "\n",
              "[5 rows x 12 columns]"
            ]
          },
          "metadata": {},
          "execution_count": 3
        }
      ]
    },
    {
      "cell_type": "code",
      "metadata": {
        "colab": {
          "base_uri": "https://localhost:8080/"
        },
        "id": "j74wmqO8YrYn",
        "outputId": "4e92058b-f365-473c-e371-a2a904d25c41"
      },
      "source": [
        "data.shape"
      ],
      "execution_count": null,
      "outputs": [
        {
          "output_type": "execute_result",
          "data": {
            "text/plain": [
              "(5110, 12)"
            ]
          },
          "metadata": {},
          "execution_count": 4
        }
      ]
    },
    {
      "cell_type": "markdown",
      "metadata": {
        "id": "HmrFDbqROcLY"
      },
      "source": [
        "#Data Exploration & Pre Processing"
      ]
    },
    {
      "cell_type": "code",
      "metadata": {
        "colab": {
          "base_uri": "https://localhost:8080/"
        },
        "id": "yv_oCJ1URcjZ",
        "outputId": "63003790-aa73-4eda-b44d-fa20e0d661e3"
      },
      "source": [
        "data.info()"
      ],
      "execution_count": null,
      "outputs": [
        {
          "output_type": "stream",
          "name": "stdout",
          "text": [
            "<class 'pandas.core.frame.DataFrame'>\n",
            "RangeIndex: 5110 entries, 0 to 5109\n",
            "Data columns (total 12 columns):\n",
            " #   Column             Non-Null Count  Dtype  \n",
            "---  ------             --------------  -----  \n",
            " 0   id                 5110 non-null   int64  \n",
            " 1   gender             5110 non-null   object \n",
            " 2   age                5110 non-null   float64\n",
            " 3   hypertension       5110 non-null   int64  \n",
            " 4   heart_disease      5110 non-null   int64  \n",
            " 5   ever_married       5110 non-null   object \n",
            " 6   work_type          5110 non-null   object \n",
            " 7   Residence_type     5110 non-null   object \n",
            " 8   avg_glucose_level  5110 non-null   float64\n",
            " 9   bmi                4909 non-null   float64\n",
            " 10  smoking_status     5110 non-null   object \n",
            " 11  stroke             5110 non-null   int64  \n",
            "dtypes: float64(3), int64(4), object(5)\n",
            "memory usage: 479.2+ KB\n"
          ]
        }
      ]
    },
    {
      "cell_type": "code",
      "metadata": {
        "colab": {
          "base_uri": "https://localhost:8080/"
        },
        "id": "od7alc-TRgGm",
        "outputId": "eba5cc94-3f54-4ce5-c438-a08009036642"
      },
      "source": [
        "data.isnull().sum()"
      ],
      "execution_count": null,
      "outputs": [
        {
          "output_type": "execute_result",
          "data": {
            "text/plain": [
              "id                     0\n",
              "gender                 0\n",
              "age                    0\n",
              "hypertension           0\n",
              "heart_disease          0\n",
              "ever_married           0\n",
              "work_type              0\n",
              "Residence_type         0\n",
              "avg_glucose_level      0\n",
              "bmi                  201\n",
              "smoking_status         0\n",
              "stroke                 0\n",
              "dtype: int64"
            ]
          },
          "metadata": {},
          "execution_count": 6
        }
      ]
    },
    {
      "cell_type": "code",
      "metadata": {
        "colab": {
          "base_uri": "https://localhost:8080/"
        },
        "id": "_CqXpVrzS9Gg",
        "outputId": "667f0c2b-566e-4096-9f74-9e28bfc38f46"
      },
      "source": [
        "#put average value for null BMI\n",
        "bmi_mean = data['bmi'].mean()\n",
        "data['bmi'].fillna(value=bmi_mean, inplace=True)\n",
        "print('bmi_mean:', bmi_mean)\n",
        "\n",
        "#check nulls:\n",
        "print('num of nulls:')\n",
        "print(data.isnull().sum().sum(),'\\n')\n",
        "\n",
        "#Removing the one instance of gender \"other\"\n",
        "data=data[~(data.gender=='Other')]\n",
        "\n",
        "#check Duplicates:\n",
        "print('max of row appearence')\n",
        "data.id.value_counts().max()\n",
        "\n",
        "#resetting index\n",
        "data = data.reset_index()\n",
        "data = data.drop(columns='index')"
      ],
      "execution_count": null,
      "outputs": [
        {
          "output_type": "stream",
          "name": "stdout",
          "text": [
            "bmi_mean: 28.893236911794673\n",
            "num of nulls:\n",
            "0 \n",
            "\n",
            "max of row appearence\n"
          ]
        }
      ]
    },
    {
      "cell_type": "code",
      "metadata": {
        "colab": {
          "base_uri": "https://localhost:8080/",
          "height": 258
        },
        "id": "8bnbu0Q-c_8M",
        "outputId": "f318feb4-ea4a-4c1b-c00a-dfbcab06773c"
      },
      "source": [
        "# Dropping ID column\n",
        "data.drop('id', axis=1, inplace=True)\n",
        "data.head()"
      ],
      "execution_count": null,
      "outputs": [
        {
          "output_type": "execute_result",
          "data": {
            "text/html": [
              "<div>\n",
              "<style scoped>\n",
              "    .dataframe tbody tr th:only-of-type {\n",
              "        vertical-align: middle;\n",
              "    }\n",
              "\n",
              "    .dataframe tbody tr th {\n",
              "        vertical-align: top;\n",
              "    }\n",
              "\n",
              "    .dataframe thead th {\n",
              "        text-align: right;\n",
              "    }\n",
              "</style>\n",
              "<table border=\"1\" class=\"dataframe\">\n",
              "  <thead>\n",
              "    <tr style=\"text-align: right;\">\n",
              "      <th></th>\n",
              "      <th>gender</th>\n",
              "      <th>age</th>\n",
              "      <th>hypertension</th>\n",
              "      <th>heart_disease</th>\n",
              "      <th>ever_married</th>\n",
              "      <th>work_type</th>\n",
              "      <th>Residence_type</th>\n",
              "      <th>avg_glucose_level</th>\n",
              "      <th>bmi</th>\n",
              "      <th>smoking_status</th>\n",
              "      <th>stroke</th>\n",
              "    </tr>\n",
              "  </thead>\n",
              "  <tbody>\n",
              "    <tr>\n",
              "      <th>0</th>\n",
              "      <td>Male</td>\n",
              "      <td>67.0</td>\n",
              "      <td>0</td>\n",
              "      <td>1</td>\n",
              "      <td>Yes</td>\n",
              "      <td>Private</td>\n",
              "      <td>Urban</td>\n",
              "      <td>228.69</td>\n",
              "      <td>36.600000</td>\n",
              "      <td>formerly smoked</td>\n",
              "      <td>1</td>\n",
              "    </tr>\n",
              "    <tr>\n",
              "      <th>1</th>\n",
              "      <td>Female</td>\n",
              "      <td>61.0</td>\n",
              "      <td>0</td>\n",
              "      <td>0</td>\n",
              "      <td>Yes</td>\n",
              "      <td>Self-employed</td>\n",
              "      <td>Rural</td>\n",
              "      <td>202.21</td>\n",
              "      <td>28.893237</td>\n",
              "      <td>never smoked</td>\n",
              "      <td>1</td>\n",
              "    </tr>\n",
              "    <tr>\n",
              "      <th>2</th>\n",
              "      <td>Male</td>\n",
              "      <td>80.0</td>\n",
              "      <td>0</td>\n",
              "      <td>1</td>\n",
              "      <td>Yes</td>\n",
              "      <td>Private</td>\n",
              "      <td>Rural</td>\n",
              "      <td>105.92</td>\n",
              "      <td>32.500000</td>\n",
              "      <td>never smoked</td>\n",
              "      <td>1</td>\n",
              "    </tr>\n",
              "    <tr>\n",
              "      <th>3</th>\n",
              "      <td>Female</td>\n",
              "      <td>49.0</td>\n",
              "      <td>0</td>\n",
              "      <td>0</td>\n",
              "      <td>Yes</td>\n",
              "      <td>Private</td>\n",
              "      <td>Urban</td>\n",
              "      <td>171.23</td>\n",
              "      <td>34.400000</td>\n",
              "      <td>smokes</td>\n",
              "      <td>1</td>\n",
              "    </tr>\n",
              "    <tr>\n",
              "      <th>4</th>\n",
              "      <td>Female</td>\n",
              "      <td>79.0</td>\n",
              "      <td>1</td>\n",
              "      <td>0</td>\n",
              "      <td>Yes</td>\n",
              "      <td>Self-employed</td>\n",
              "      <td>Rural</td>\n",
              "      <td>174.12</td>\n",
              "      <td>24.000000</td>\n",
              "      <td>never smoked</td>\n",
              "      <td>1</td>\n",
              "    </tr>\n",
              "  </tbody>\n",
              "</table>\n",
              "</div>"
            ],
            "text/plain": [
              "   gender   age  hypertension  ...        bmi   smoking_status stroke\n",
              "0    Male  67.0             0  ...  36.600000  formerly smoked      1\n",
              "1  Female  61.0             0  ...  28.893237     never smoked      1\n",
              "2    Male  80.0             0  ...  32.500000     never smoked      1\n",
              "3  Female  49.0             0  ...  34.400000           smokes      1\n",
              "4  Female  79.0             1  ...  24.000000     never smoked      1\n",
              "\n",
              "[5 rows x 11 columns]"
            ]
          },
          "metadata": {},
          "execution_count": 8
        }
      ]
    },
    {
      "cell_type": "code",
      "metadata": {
        "colab": {
          "base_uri": "https://localhost:8080/",
          "height": 297
        },
        "id": "7J8IXAeISQuM",
        "outputId": "d81fadcb-f672-4911-c632-45988a0b8ad8"
      },
      "source": [
        "data.describe()"
      ],
      "execution_count": null,
      "outputs": [
        {
          "output_type": "execute_result",
          "data": {
            "text/html": [
              "<div>\n",
              "<style scoped>\n",
              "    .dataframe tbody tr th:only-of-type {\n",
              "        vertical-align: middle;\n",
              "    }\n",
              "\n",
              "    .dataframe tbody tr th {\n",
              "        vertical-align: top;\n",
              "    }\n",
              "\n",
              "    .dataframe thead th {\n",
              "        text-align: right;\n",
              "    }\n",
              "</style>\n",
              "<table border=\"1\" class=\"dataframe\">\n",
              "  <thead>\n",
              "    <tr style=\"text-align: right;\">\n",
              "      <th></th>\n",
              "      <th>age</th>\n",
              "      <th>hypertension</th>\n",
              "      <th>heart_disease</th>\n",
              "      <th>avg_glucose_level</th>\n",
              "      <th>bmi</th>\n",
              "      <th>stroke</th>\n",
              "    </tr>\n",
              "  </thead>\n",
              "  <tbody>\n",
              "    <tr>\n",
              "      <th>count</th>\n",
              "      <td>5109.000000</td>\n",
              "      <td>5109.000000</td>\n",
              "      <td>5109.000000</td>\n",
              "      <td>5109.000000</td>\n",
              "      <td>5109.000000</td>\n",
              "      <td>5109.000000</td>\n",
              "    </tr>\n",
              "    <tr>\n",
              "      <th>mean</th>\n",
              "      <td>43.229986</td>\n",
              "      <td>0.097475</td>\n",
              "      <td>0.054022</td>\n",
              "      <td>106.140399</td>\n",
              "      <td>28.894508</td>\n",
              "      <td>0.048738</td>\n",
              "    </tr>\n",
              "    <tr>\n",
              "      <th>std</th>\n",
              "      <td>22.613575</td>\n",
              "      <td>0.296633</td>\n",
              "      <td>0.226084</td>\n",
              "      <td>45.285004</td>\n",
              "      <td>7.698235</td>\n",
              "      <td>0.215340</td>\n",
              "    </tr>\n",
              "    <tr>\n",
              "      <th>min</th>\n",
              "      <td>0.080000</td>\n",
              "      <td>0.000000</td>\n",
              "      <td>0.000000</td>\n",
              "      <td>55.120000</td>\n",
              "      <td>10.300000</td>\n",
              "      <td>0.000000</td>\n",
              "    </tr>\n",
              "    <tr>\n",
              "      <th>25%</th>\n",
              "      <td>25.000000</td>\n",
              "      <td>0.000000</td>\n",
              "      <td>0.000000</td>\n",
              "      <td>77.240000</td>\n",
              "      <td>23.800000</td>\n",
              "      <td>0.000000</td>\n",
              "    </tr>\n",
              "    <tr>\n",
              "      <th>50%</th>\n",
              "      <td>45.000000</td>\n",
              "      <td>0.000000</td>\n",
              "      <td>0.000000</td>\n",
              "      <td>91.880000</td>\n",
              "      <td>28.400000</td>\n",
              "      <td>0.000000</td>\n",
              "    </tr>\n",
              "    <tr>\n",
              "      <th>75%</th>\n",
              "      <td>61.000000</td>\n",
              "      <td>0.000000</td>\n",
              "      <td>0.000000</td>\n",
              "      <td>114.090000</td>\n",
              "      <td>32.800000</td>\n",
              "      <td>0.000000</td>\n",
              "    </tr>\n",
              "    <tr>\n",
              "      <th>max</th>\n",
              "      <td>82.000000</td>\n",
              "      <td>1.000000</td>\n",
              "      <td>1.000000</td>\n",
              "      <td>271.740000</td>\n",
              "      <td>97.600000</td>\n",
              "      <td>1.000000</td>\n",
              "    </tr>\n",
              "  </tbody>\n",
              "</table>\n",
              "</div>"
            ],
            "text/plain": [
              "               age  hypertension  ...          bmi       stroke\n",
              "count  5109.000000   5109.000000  ...  5109.000000  5109.000000\n",
              "mean     43.229986      0.097475  ...    28.894508     0.048738\n",
              "std      22.613575      0.296633  ...     7.698235     0.215340\n",
              "min       0.080000      0.000000  ...    10.300000     0.000000\n",
              "25%      25.000000      0.000000  ...    23.800000     0.000000\n",
              "50%      45.000000      0.000000  ...    28.400000     0.000000\n",
              "75%      61.000000      0.000000  ...    32.800000     0.000000\n",
              "max      82.000000      1.000000  ...    97.600000     1.000000\n",
              "\n",
              "[8 rows x 6 columns]"
            ]
          },
          "metadata": {},
          "execution_count": 9
        }
      ]
    },
    {
      "cell_type": "code",
      "metadata": {
        "colab": {
          "base_uri": "https://localhost:8080/",
          "height": 266
        },
        "id": "hWhIuaDoptUI",
        "outputId": "65e1a345-f6e7-4825-f28a-545a7c8f3d33"
      },
      "source": [
        "data.plot(kind='box')\n",
        "plt.show()"
      ],
      "execution_count": null,
      "outputs": [
        {
          "output_type": "display_data",
          "data": {
            "image/png": "[encoded data removed]",
            "text/plain": [
              "<Figure size 432x288 with 1 Axes>"
            ]
          },
          "metadata": {
            "needs_background": "light"
          }
        }
      ]
    },
    {
      "cell_type": "code",
      "metadata": {
        "colab": {
          "base_uri": "https://localhost:8080/",
          "height": 280
        },
        "id": "3_VYyCoA75Tl",
        "outputId": "8a42152a-82c9-4d5c-ba2c-ab058116d180"
      },
      "source": [
        "sns.boxplot(data.avg_glucose_level, color='lightblue' )\n",
        "plt.show()"
      ],
      "execution_count": null,
      "outputs": [
        {
          "output_type": "display_data",
          "data": {
            "image/png": "[encoded data removed]",
            "text/plain": [
              "<Figure size 432x288 with 1 Axes>"
            ]
          },
          "metadata": {
            "needs_background": "light"
          }
        }
      ]
    },
    {
      "cell_type": "markdown",
      "metadata": {
        "id": "vJG5NeKUB_6x"
      },
      "source": [
        "Since they comprise about 25% of the data, we decided to keep them"
      ]
    },
    {
      "cell_type": "code",
      "metadata": {
        "colab": {
          "base_uri": "https://localhost:8080/",
          "height": 279
        },
        "id": "PWb0nBCTB-hN",
        "outputId": "4dfb6aff-5217-46d4-8611-7e7f6256f2a3"
      },
      "source": [
        "sns.boxplot(data.bmi, color='Maroon')\n",
        "plt.show()"
      ],
      "execution_count": null,
      "outputs": [
        {
          "output_type": "display_data",
          "data": {
            "image/png": "[encoded data removed]",
            "text/plain": [
              "<Figure size 432x288 with 1 Axes>"
            ]
          },
          "metadata": {
            "needs_background": "light"
          }
        }
      ]
    },
    {
      "cell_type": "markdown",
      "metadata": {
        "id": "sYVdaVoPCD7n"
      },
      "source": [
        "It seems that there are some outlayers, which we think caused by mistake in data collection"
      ]
    },
    {
      "cell_type": "code",
      "metadata": {
        "colab": {
          "base_uri": "https://localhost:8080/"
        },
        "id": "qkvHPa-4CCfP",
        "outputId": "39bf3ba2-f776-4d02-fa3e-f7af67337101"
      },
      "source": [
        "data.bmi.sort_values()"
      ],
      "execution_count": null,
      "outputs": [
        {
          "output_type": "execute_result",
          "data": {
            "text/plain": [
              "1609    10.3\n",
              "3306    11.3\n",
              "2187    11.5\n",
              "657     12.0\n",
              "922     12.3\n",
              "        ... \n",
              "1559    66.8\n",
              "544     71.9\n",
              "928     78.0\n",
              "4208    92.0\n",
              "2128    97.6\n",
              "Name: bmi, Length: 5109, dtype: float64"
            ]
          },
          "metadata": {},
          "execution_count": 13
        }
      ]
    },
    {
      "cell_type": "code",
      "metadata": {
        "colab": {
          "base_uri": "https://localhost:8080/"
        },
        "id": "55DVR0W4CTFI",
        "outputId": "6431b2b8-b1b2-4440-e3dd-8fa9c38bfe1e"
      },
      "source": [
        "print(data.iloc[[1559, 544, 928, 4208, 2128]])"
      ],
      "execution_count": null,
      "outputs": [
        {
          "output_type": "stream",
          "name": "stdout",
          "text": [
            "      gender   age  hypertension  ...   bmi smoking_status stroke\n",
            "1559  Female  53.0             0  ...  66.8        Unknown      0\n",
            "544     Male  42.0             0  ...  71.9   never smoked      0\n",
            "928   Female  23.0             1  ...  78.0         smokes      0\n",
            "4208    Male  38.0             1  ...  92.0   never smoked      0\n",
            "2128    Male  17.0             1  ...  97.6        Unknown      0\n",
            "\n",
            "[5 rows x 11 columns]\n"
          ]
        }
      ]
    },
    {
      "cell_type": "code",
      "metadata": {
        "id": "izcZrMAjCVEb"
      },
      "source": [
        "data = data.drop(1559)\n",
        "data = data.drop(544)\n",
        "data = data.drop(928)\n",
        "data = data.drop(4208)\n",
        "data = data.drop(2128)\n"
      ],
      "execution_count": null,
      "outputs": []
    },
    {
      "cell_type": "code",
      "metadata": {
        "id": "yXxwvoqT8TVf"
      },
      "source": [
        "#resetting index\n",
        "data = data.reset_index()\n",
        "data = data.drop(columns='index')"
      ],
      "execution_count": null,
      "outputs": []
    },
    {
      "cell_type": "code",
      "metadata": {
        "colab": {
          "base_uri": "https://localhost:8080/",
          "height": 507
        },
        "id": "XsRzPvi5onA6",
        "outputId": "16f0ab8b-f72e-414c-9e70-b51ba4c62c34"
      },
      "source": [
        "data"
      ],
      "execution_count": null,
      "outputs": [
        {
          "output_type": "execute_result",
          "data": {
            "text/html": [
              "<div>\n",
              "<style scoped>\n",
              "    .dataframe tbody tr th:only-of-type {\n",
              "        vertical-align: middle;\n",
              "    }\n",
              "\n",
              "    .dataframe tbody tr th {\n",
              "        vertical-align: top;\n",
              "    }\n",
              "\n",
              "    .dataframe thead th {\n",
              "        text-align: right;\n",
              "    }\n",
              "</style>\n",
              "<table border=\"1\" class=\"dataframe\">\n",
              "  <thead>\n",
              "    <tr style=\"text-align: right;\">\n",
              "      <th></th>\n",
              "      <th>gender</th>\n",
              "      <th>age</th>\n",
              "      <th>hypertension</th>\n",
              "      <th>heart_disease</th>\n",
              "      <th>ever_married</th>\n",
              "      <th>work_type</th>\n",
              "      <th>Residence_type</th>\n",
              "      <th>avg_glucose_level</th>\n",
              "      <th>bmi</th>\n",
              "      <th>smoking_status</th>\n",
              "      <th>stroke</th>\n",
              "    </tr>\n",
              "  </thead>\n",
              "  <tbody>\n",
              "    <tr>\n",
              "      <th>0</th>\n",
              "      <td>Male</td>\n",
              "      <td>67.0</td>\n",
              "      <td>0</td>\n",
              "      <td>1</td>\n",
              "      <td>Yes</td>\n",
              "      <td>Private</td>\n",
              "      <td>Urban</td>\n",
              "      <td>228.69</td>\n",
              "      <td>36.600000</td>\n",
              "      <td>formerly smoked</td>\n",
              "      <td>1</td>\n",
              "    </tr>\n",
              "    <tr>\n",
              "      <th>1</th>\n",
              "      <td>Female</td>\n",
              "      <td>61.0</td>\n",
              "      <td>0</td>\n",
              "      <td>0</td>\n",
              "      <td>Yes</td>\n",
              "      <td>Self-employed</td>\n",
              "      <td>Rural</td>\n",
              "      <td>202.21</td>\n",
              "      <td>28.893237</td>\n",
              "      <td>never smoked</td>\n",
              "      <td>1</td>\n",
              "    </tr>\n",
              "    <tr>\n",
              "      <th>2</th>\n",
              "      <td>Male</td>\n",
              "      <td>80.0</td>\n",
              "      <td>0</td>\n",
              "      <td>1</td>\n",
              "      <td>Yes</td>\n",
              "      <td>Private</td>\n",
              "      <td>Rural</td>\n",
              "      <td>105.92</td>\n",
              "      <td>32.500000</td>\n",
              "      <td>never smoked</td>\n",
              "      <td>1</td>\n",
              "    </tr>\n",
              "    <tr>\n",
              "      <th>3</th>\n",
              "      <td>Female</td>\n",
              "      <td>49.0</td>\n",
              "      <td>0</td>\n",
              "      <td>0</td>\n",
              "      <td>Yes</td>\n",
              "      <td>Private</td>\n",
              "      <td>Urban</td>\n",
              "      <td>171.23</td>\n",
              "      <td>34.400000</td>\n",
              "      <td>smokes</td>\n",
              "      <td>1</td>\n",
              "    </tr>\n",
              "    <tr>\n",
              "      <th>4</th>\n",
              "      <td>Female</td>\n",
              "      <td>79.0</td>\n",
              "      <td>1</td>\n",
              "      <td>0</td>\n",
              "      <td>Yes</td>\n",
              "      <td>Self-employed</td>\n",
              "      <td>Rural</td>\n",
              "      <td>174.12</td>\n",
              "      <td>24.000000</td>\n",
              "      <td>never smoked</td>\n",
              "      <td>1</td>\n",
              "    </tr>\n",
              "    <tr>\n",
              "      <th>...</th>\n",
              "      <td>...</td>\n",
              "      <td>...</td>\n",
              "      <td>...</td>\n",
              "      <td>...</td>\n",
              "      <td>...</td>\n",
              "      <td>...</td>\n",
              "      <td>...</td>\n",
              "      <td>...</td>\n",
              "      <td>...</td>\n",
              "      <td>...</td>\n",
              "      <td>...</td>\n",
              "    </tr>\n",
              "    <tr>\n",
              "      <th>5099</th>\n",
              "      <td>Female</td>\n",
              "      <td>80.0</td>\n",
              "      <td>1</td>\n",
              "      <td>0</td>\n",
              "      <td>Yes</td>\n",
              "      <td>Private</td>\n",
              "      <td>Urban</td>\n",
              "      <td>83.75</td>\n",
              "      <td>28.893237</td>\n",
              "      <td>never smoked</td>\n",
              "      <td>0</td>\n",
              "    </tr>\n",
              "    <tr>\n",
              "      <th>5100</th>\n",
              "      <td>Female</td>\n",
              "      <td>81.0</td>\n",
              "      <td>0</td>\n",
              "      <td>0</td>\n",
              "      <td>Yes</td>\n",
              "      <td>Self-employed</td>\n",
              "      <td>Urban</td>\n",
              "      <td>125.20</td>\n",
              "      <td>40.000000</td>\n",
              "      <td>never smoked</td>\n",
              "      <td>0</td>\n",
              "    </tr>\n",
              "    <tr>\n",
              "      <th>5101</th>\n",
              "      <td>Female</td>\n",
              "      <td>35.0</td>\n",
              "      <td>0</td>\n",
              "      <td>0</td>\n",
              "      <td>Yes</td>\n",
              "      <td>Self-employed</td>\n",
              "      <td>Rural</td>\n",
              "      <td>82.99</td>\n",
              "      <td>30.600000</td>\n",
              "      <td>never smoked</td>\n",
              "      <td>0</td>\n",
              "    </tr>\n",
              "    <tr>\n",
              "      <th>5102</th>\n",
              "      <td>Male</td>\n",
              "      <td>51.0</td>\n",
              "      <td>0</td>\n",
              "      <td>0</td>\n",
              "      <td>Yes</td>\n",
              "      <td>Private</td>\n",
              "      <td>Rural</td>\n",
              "      <td>166.29</td>\n",
              "      <td>25.600000</td>\n",
              "      <td>formerly smoked</td>\n",
              "      <td>0</td>\n",
              "    </tr>\n",
              "    <tr>\n",
              "      <th>5103</th>\n",
              "      <td>Female</td>\n",
              "      <td>44.0</td>\n",
              "      <td>0</td>\n",
              "      <td>0</td>\n",
              "      <td>Yes</td>\n",
              "      <td>Govt_job</td>\n",
              "      <td>Urban</td>\n",
              "      <td>85.28</td>\n",
              "      <td>26.200000</td>\n",
              "      <td>Unknown</td>\n",
              "      <td>0</td>\n",
              "    </tr>\n",
              "  </tbody>\n",
              "</table>\n",
              "<p>5104 rows × 11 columns</p>\n",
              "</div>"
            ],
            "text/plain": [
              "      gender   age  hypertension  ...        bmi   smoking_status stroke\n",
              "0       Male  67.0             0  ...  36.600000  formerly smoked      1\n",
              "1     Female  61.0             0  ...  28.893237     never smoked      1\n",
              "2       Male  80.0             0  ...  32.500000     never smoked      1\n",
              "3     Female  49.0             0  ...  34.400000           smokes      1\n",
              "4     Female  79.0             1  ...  24.000000     never smoked      1\n",
              "...      ...   ...           ...  ...        ...              ...    ...\n",
              "5099  Female  80.0             1  ...  28.893237     never smoked      0\n",
              "5100  Female  81.0             0  ...  40.000000     never smoked      0\n",
              "5101  Female  35.0             0  ...  30.600000     never smoked      0\n",
              "5102    Male  51.0             0  ...  25.600000  formerly smoked      0\n",
              "5103  Female  44.0             0  ...  26.200000          Unknown      0\n",
              "\n",
              "[5104 rows x 11 columns]"
            ]
          },
          "metadata": {},
          "execution_count": 17
        }
      ]
    },
    {
      "cell_type": "code",
      "metadata": {
        "colab": {
          "base_uri": "https://localhost:8080/",
          "height": 546
        },
        "id": "H9bmckaLY2PX",
        "outputId": "8717c030-e6db-4e51-ecca-d968595a243a"
      },
      "source": [
        "fig, axes = plt.subplots(1,3,figsize=(11,7),constrained_layout=True)\n",
        "sns.distplot(data.bmi, color=\"orange\", kde= True,ax=axes[0], bins=30,)\n",
        "sns.distplot(data.avg_glucose_level, color=\"green\", kde= True,ax=axes[1],bins=30)\n",
        "sns.distplot(data.age, kde= True,ax=axes[2],bins=30)\n",
        "fig.suptitle('Horizontally stacked subplots')\n",
        "fig.legend();\n"
      ],
      "execution_count": null,
      "outputs": [
        {
          "output_type": "stream",
          "name": "stderr",
          "text": [
            "No handles with labels found to put in legend.\n"
          ]
        },
        {
          "output_type": "display_data",
          "data": {
            "image/png": "[encoded data removed]",
            "text/plain": [
              "<Figure size 792x504 with 3 Axes>"
            ]
          },
          "metadata": {
            "needs_background": "light"
          }
        }
      ]
    },
    {
      "cell_type": "code",
      "metadata": {
        "colab": {
          "base_uri": "https://localhost:8080/",
          "height": 369
        },
        "id": "ZrMR8fUubLuy",
        "outputId": "01c28785-d527-468e-9368-42450d9b5287"
      },
      "source": [
        "#Work Type\n",
        "sns.catplot(y=\"work_type\", hue=\"stroke\", kind=\"count\",palette=\"pastel\", edgecolor=\".6\",data=data);"
      ],
      "execution_count": null,
      "outputs": [
        {
          "output_type": "display_data",
          "data": {
            "image/png": "[encoded data removed]",
            "text/plain": [
              "<Figure size 402.375x360 with 1 Axes>"
            ]
          },
          "metadata": {
            "needs_background": "light"
          }
        }
      ]
    },
    {
      "cell_type": "code",
      "metadata": {
        "colab": {
          "base_uri": "https://localhost:8080/",
          "height": 386
        },
        "id": "Cxm8vjzXbcJU",
        "outputId": "3cd35c42-5924-4fe0-f25e-6f09d6b565a2"
      },
      "source": [
        "##SMOKING status\n",
        "sns.catplot(y=\"smoking_status\", hue=\"stroke\", kind=\"count\",palette=\"pastel\", edgecolor=\".6\",data=data)"
      ],
      "execution_count": null,
      "outputs": [
        {
          "output_type": "execute_result",
          "data": {
            "text/plain": [
              "<seaborn.axisgrid.FacetGrid at 0x7fb4c1b93110>"
            ]
          },
          "metadata": {},
          "execution_count": 20
        },
        {
          "output_type": "display_data",
          "data": {
            "image/png": "[encoded data removed]",
            "text/plain": [
              "<Figure size 402.375x360 with 1 Axes>"
            ]
          },
          "metadata": {
            "needs_background": "light"
          }
        }
      ]
    },
    {
      "cell_type": "markdown",
      "metadata": {
        "id": "Ve77vT2OB0M4"
      },
      "source": [
        "📌 1. Proportion-wise, people working in the private sector and those who has a government job, suffer similarily from stroke. Moreover, self-emploed people are more likely to have a stroke while children will rarely have one. The above may be explained by a pressure that a work-load might cause.\n",
        "\n",
        "📌 2. In contrass to what we first thought, having a stroke doesn't seems highly correlated to smoking status."
      ]
    },
    {
      "cell_type": "code",
      "metadata": {
        "colab": {
          "base_uri": "https://localhost:8080/",
          "height": 555
        },
        "id": "4yKUIp5CTr1E",
        "outputId": "d78d46d0-0406-465c-b185-387e49d1c97b"
      },
      "source": [
        "# Compute the correlation matrix\n",
        "corr = data.corr()\n",
        "\n",
        "# Generate a mask for the upper triangle\n",
        "mask = np.triu(np.ones_like(corr, dtype=bool))\n",
        "\n",
        "# Set up the matplotlib figure\n",
        "f, ax = plt.subplots(figsize=(11, 9))\n",
        "\n",
        "# Generate a custom diverging colormap\n",
        "cmap = sns.diverging_palette(230, 20, as_cmap=True)\n",
        "\n",
        "# Draw the heatmap with the mask and correct aspect ratio\n",
        "sns.heatmap(corr, mask=mask, cmap=cmap, vmax=.3, center=0, square=True, linewidths=.5, cbar_kws={\"shrink\": .5},annot=True)"
      ],
      "execution_count": null,
      "outputs": [
        {
          "output_type": "execute_result",
          "data": {
            "text/plain": [
              "<matplotlib.axes._subplots.AxesSubplot at 0x7fb4c1baa5d0>"
            ]
          },
          "metadata": {},
          "execution_count": 21
        },
        {
          "output_type": "display_data",
          "data": {
            "image/png": "[encoded data removed]",
            "text/plain": [
              "<Figure size 792x648 with 2 Axes>"
            ]
          },
          "metadata": {
            "needs_background": "light"
          }
        }
      ]
    },
    {
      "cell_type": "code",
      "metadata": {
        "colab": {
          "base_uri": "https://localhost:8080/"
        },
        "id": "voioxjfqGk0U",
        "outputId": "b104f493-24eb-4383-8c9d-6ea29a2dccbc"
      },
      "source": [
        "c = data.groupby(['work_type'])['stroke'].value_counts()\n",
        "d = data.groupby(['work_type'])['stroke'].count()\n",
        "c/d"
      ],
      "execution_count": null,
      "outputs": [
        {
          "output_type": "execute_result",
          "data": {
            "text/plain": [
              "work_type      stroke\n",
              "Govt_job       0         0.949772\n",
              "               1         0.050228\n",
              "Never_worked   0         1.000000\n",
              "Private        0         0.948955\n",
              "               1         0.051045\n",
              "Self-employed  0         0.920635\n",
              "               1         0.079365\n",
              "children       0         0.997089\n",
              "               1         0.002911\n",
              "Name: stroke, dtype: float64"
            ]
          },
          "metadata": {},
          "execution_count": 22
        }
      ]
    },
    {
      "cell_type": "code",
      "metadata": {
        "colab": {
          "base_uri": "https://localhost:8080/",
          "height": 638
        },
        "id": "boQe4LYzdIKw",
        "outputId": "9189fdc9-4045-4d10-923d-371d29c615b2"
      },
      "source": [
        "cat_df = data[['gender','hypertension', 'heart_disease', 'ever_married', 'work_type', 'Residence_type', 'smoking_status','stroke']]\n",
        "summary = pd.concat([pd.crosstab(cat_df[x], cat_df.stroke) for x in cat_df.columns[:-1]], keys=cat_df.columns[:-1])\n",
        "summary2 = pd.concat([pd.crosstab(cat_df[x], cat_df.stroke,normalize=True) for x in cat_df.columns[:-1]], keys=cat_df.columns[:-1])\n",
        "summary2 = summary2.rename(columns={0: '0 normalized', 1 :'1 normalized'})\n",
        "summary3 = pd. concat([summary, summary2], axis=1)\n",
        "summary3"
      ],
      "execution_count": null,
      "outputs": [
        {
          "output_type": "execute_result",
          "data": {
            "text/html": [
              "<div>\n",
              "<style scoped>\n",
              "    .dataframe tbody tr th:only-of-type {\n",
              "        vertical-align: middle;\n",
              "    }\n",
              "\n",
              "    .dataframe tbody tr th {\n",
              "        vertical-align: top;\n",
              "    }\n",
              "\n",
              "    .dataframe thead th {\n",
              "        text-align: right;\n",
              "    }\n",
              "</style>\n",
              "<table border=\"1\" class=\"dataframe\">\n",
              "  <thead>\n",
              "    <tr style=\"text-align: right;\">\n",
              "      <th></th>\n",
              "      <th>stroke</th>\n",
              "      <th>0</th>\n",
              "      <th>1</th>\n",
              "      <th>0 normalized</th>\n",
              "      <th>1 normalized</th>\n",
              "    </tr>\n",
              "  </thead>\n",
              "  <tbody>\n",
              "    <tr>\n",
              "      <th rowspan=\"2\" valign=\"top\">gender</th>\n",
              "      <th>Female</th>\n",
              "      <td>2851</td>\n",
              "      <td>141</td>\n",
              "      <td>0.558582</td>\n",
              "      <td>0.027625</td>\n",
              "    </tr>\n",
              "    <tr>\n",
              "      <th>Male</th>\n",
              "      <td>2004</td>\n",
              "      <td>108</td>\n",
              "      <td>0.392633</td>\n",
              "      <td>0.021160</td>\n",
              "    </tr>\n",
              "    <tr>\n",
              "      <th rowspan=\"2\" valign=\"top\">hypertension</th>\n",
              "      <th>0</th>\n",
              "      <td>4426</td>\n",
              "      <td>183</td>\n",
              "      <td>0.867163</td>\n",
              "      <td>0.035854</td>\n",
              "    </tr>\n",
              "    <tr>\n",
              "      <th>1</th>\n",
              "      <td>429</td>\n",
              "      <td>66</td>\n",
              "      <td>0.084052</td>\n",
              "      <td>0.012931</td>\n",
              "    </tr>\n",
              "    <tr>\n",
              "      <th rowspan=\"2\" valign=\"top\">heart_disease</th>\n",
              "      <th>0</th>\n",
              "      <td>4626</td>\n",
              "      <td>202</td>\n",
              "      <td>0.906348</td>\n",
              "      <td>0.039577</td>\n",
              "    </tr>\n",
              "    <tr>\n",
              "      <th>1</th>\n",
              "      <td>229</td>\n",
              "      <td>47</td>\n",
              "      <td>0.044867</td>\n",
              "      <td>0.009208</td>\n",
              "    </tr>\n",
              "    <tr>\n",
              "      <th rowspan=\"2\" valign=\"top\">ever_married</th>\n",
              "      <th>No</th>\n",
              "      <td>1725</td>\n",
              "      <td>29</td>\n",
              "      <td>0.337970</td>\n",
              "      <td>0.005682</td>\n",
              "    </tr>\n",
              "    <tr>\n",
              "      <th>Yes</th>\n",
              "      <td>3130</td>\n",
              "      <td>220</td>\n",
              "      <td>0.613245</td>\n",
              "      <td>0.043103</td>\n",
              "    </tr>\n",
              "    <tr>\n",
              "      <th rowspan=\"5\" valign=\"top\">work_type</th>\n",
              "      <th>Govt_job</th>\n",
              "      <td>624</td>\n",
              "      <td>33</td>\n",
              "      <td>0.122257</td>\n",
              "      <td>0.006466</td>\n",
              "    </tr>\n",
              "    <tr>\n",
              "      <th>Never_worked</th>\n",
              "      <td>22</td>\n",
              "      <td>0</td>\n",
              "      <td>0.004310</td>\n",
              "      <td>0.000000</td>\n",
              "    </tr>\n",
              "    <tr>\n",
              "      <th>Private</th>\n",
              "      <td>2770</td>\n",
              "      <td>149</td>\n",
              "      <td>0.542712</td>\n",
              "      <td>0.029193</td>\n",
              "    </tr>\n",
              "    <tr>\n",
              "      <th>Self-employed</th>\n",
              "      <td>754</td>\n",
              "      <td>65</td>\n",
              "      <td>0.147727</td>\n",
              "      <td>0.012735</td>\n",
              "    </tr>\n",
              "    <tr>\n",
              "      <th>children</th>\n",
              "      <td>685</td>\n",
              "      <td>2</td>\n",
              "      <td>0.134208</td>\n",
              "      <td>0.000392</td>\n",
              "    </tr>\n",
              "    <tr>\n",
              "      <th rowspan=\"2\" valign=\"top\">Residence_type</th>\n",
              "      <th>Rural</th>\n",
              "      <td>2395</td>\n",
              "      <td>114</td>\n",
              "      <td>0.469240</td>\n",
              "      <td>0.022335</td>\n",
              "    </tr>\n",
              "    <tr>\n",
              "      <th>Urban</th>\n",
              "      <td>2460</td>\n",
              "      <td>135</td>\n",
              "      <td>0.481975</td>\n",
              "      <td>0.026450</td>\n",
              "    </tr>\n",
              "    <tr>\n",
              "      <th rowspan=\"4\" valign=\"top\">smoking_status</th>\n",
              "      <th>Unknown</th>\n",
              "      <td>1495</td>\n",
              "      <td>47</td>\n",
              "      <td>0.292908</td>\n",
              "      <td>0.009208</td>\n",
              "    </tr>\n",
              "    <tr>\n",
              "      <th>formerly smoked</th>\n",
              "      <td>814</td>\n",
              "      <td>70</td>\n",
              "      <td>0.159483</td>\n",
              "      <td>0.013715</td>\n",
              "    </tr>\n",
              "    <tr>\n",
              "      <th>never smoked</th>\n",
              "      <td>1800</td>\n",
              "      <td>90</td>\n",
              "      <td>0.352665</td>\n",
              "      <td>0.017633</td>\n",
              "    </tr>\n",
              "    <tr>\n",
              "      <th>smokes</th>\n",
              "      <td>746</td>\n",
              "      <td>42</td>\n",
              "      <td>0.146160</td>\n",
              "      <td>0.008229</td>\n",
              "    </tr>\n",
              "  </tbody>\n",
              "</table>\n",
              "</div>"
            ],
            "text/plain": [
              "stroke                             0    1  0 normalized  1 normalized\n",
              "gender         Female           2851  141      0.558582      0.027625\n",
              "               Male             2004  108      0.392633      0.021160\n",
              "hypertension   0                4426  183      0.867163      0.035854\n",
              "               1                 429   66      0.084052      0.012931\n",
              "heart_disease  0                4626  202      0.906348      0.039577\n",
              "               1                 229   47      0.044867      0.009208\n",
              "ever_married   No               1725   29      0.337970      0.005682\n",
              "               Yes              3130  220      0.613245      0.043103\n",
              "work_type      Govt_job          624   33      0.122257      0.006466\n",
              "               Never_worked       22    0      0.004310      0.000000\n",
              "               Private          2770  149      0.542712      0.029193\n",
              "               Self-employed     754   65      0.147727      0.012735\n",
              "               children          685    2      0.134208      0.000392\n",
              "Residence_type Rural            2395  114      0.469240      0.022335\n",
              "               Urban            2460  135      0.481975      0.026450\n",
              "smoking_status Unknown          1495   47      0.292908      0.009208\n",
              "               formerly smoked   814   70      0.159483      0.013715\n",
              "               never smoked     1800   90      0.352665      0.017633\n",
              "               smokes            746   42      0.146160      0.008229"
            ]
          },
          "metadata": {},
          "execution_count": 23
        }
      ]
    },
    {
      "cell_type": "code",
      "metadata": {
        "colab": {
          "base_uri": "https://localhost:8080/",
          "height": 623
        },
        "id": "IJe0QXL1g_PE",
        "outputId": "2ea16ad6-694a-46cc-cb8f-5d5167f0076e"
      },
      "source": [
        "plt.figure(figsize=(12,10))\n",
        "\n",
        "sns.distplot(data[data['stroke'] == 0][\"age\"], color='green') # No Stroke - green\n",
        "sns.distplot(data[data['stroke'] == 1][\"age\"], color='red') # Stroke - Red\n",
        "\n",
        "plt.title('No Stroke vs Stroke by Age', fontsize=15)\n",
        "plt.legend(['No Stroke','Stroke'])\n",
        "plt.xlim([18,100])\n",
        "plt.show();"
      ],
      "execution_count": null,
      "outputs": [
        {
          "output_type": "display_data",
          "data": {
            "image/png": "[encoded data removed]",
            "text/plain": [
              "<Figure size 864x720 with 1 Axes>"
            ]
          },
          "metadata": {
            "needs_background": "light"
          }
        }
      ]
    },
    {
      "cell_type": "code",
      "metadata": {
        "colab": {
          "base_uri": "https://localhost:8080/",
          "height": 624
        },
        "id": "peiAW0JoIzOF",
        "outputId": "77a44390-4c0a-4824-c4bd-3c8be5669df7"
      },
      "source": [
        "plt.figure(figsize=(12,10))\n",
        "\n",
        "sns.distplot(data[data['stroke'] == 0][\"avg_glucose_level\"], color='green') # No Stroke - green\n",
        "sns.distplot(data[data['stroke'] == 1][\"avg_glucose_level\"], color='red') # Stroke - Red\n",
        "\n",
        "plt.title('No Stroke vs Stroke by Avg. Glucose Level', fontsize=15)\n",
        "plt.xlim([30,330])\n",
        "# plt.suptitle('No Stroke - green, Stroke - Red ')\n",
        "plt.legend(['No Stroke','Stroke'])\n",
        "plt.show()"
      ],
      "execution_count": null,
      "outputs": [
        {
          "output_type": "display_data",
          "data": {
            "image/png": "[encoded data removed]",
            "text/plain": [
              "<Figure size 864x720 with 1 Axes>"
            ]
          },
          "metadata": {
            "needs_background": "light"
          }
        }
      ]
    },
    {
      "cell_type": "code",
      "metadata": {
        "colab": {
          "base_uri": "https://localhost:8080/",
          "height": 336
        },
        "id": "dMbzi9hG1T73",
        "outputId": "99844504-ca3f-40f3-8c33-e33447e897d1"
      },
      "source": [
        "print(data.stroke.value_counts())\n",
        "total_stroke = data.stroke.count()\n",
        "sns.set_theme(style=\"darkgrid\")\n",
        "ax = sns.countplot(data=data, x=\"stroke\")\n",
        "\n",
        "for p in ax.patches:\n",
        "    txt = str(((p.get_height()/total_stroke)*100).round(2)) + '%'\n",
        "    txt_x = p.get_x() \n",
        "    txt_y = p.get_height()\n",
        "    ax.text(txt_x,txt_y,txt)"
      ],
      "execution_count": null,
      "outputs": [
        {
          "output_type": "stream",
          "name": "stdout",
          "text": [
            "0    4855\n",
            "1     249\n",
            "Name: stroke, dtype: int64\n"
          ]
        },
        {
          "output_type": "display_data",
          "data": {
            "image/png": "[encoded data removed]",
            "text/plain": [
              "<Figure size 432x288 with 1 Axes>"
            ]
          },
          "metadata": {}
        }
      ]
    },
    {
      "cell_type": "markdown",
      "metadata": {
        "id": "zsK6kp5Wiq-P"
      },
      "source": [
        "##Encoding"
      ]
    },
    {
      "cell_type": "code",
      "metadata": {
        "id": "tI_iteq7tFwm"
      },
      "source": [
        "data[\"Residence_type\"] = data[\"Residence_type\"].apply(lambda x: 1 if x==\"Urban\" else 0)\n",
        "data[\"ever_married\"] = data[\"ever_married\"].apply(lambda x: 1 if x==\"Yes\" else 0)\n",
        "data[\"gender\"] = data[\"gender\"].apply(lambda x: 1 if x==\"Male\" else 0)\n",
        " \n",
        "data = pd.get_dummies(data=data, columns=['smoking_status'])\n",
        "data = pd.get_dummies(data=data, columns=['work_type'])"
      ],
      "execution_count": null,
      "outputs": []
    },
    {
      "cell_type": "code",
      "metadata": {
        "colab": {
          "base_uri": "https://localhost:8080/",
          "height": 241
        },
        "id": "Ntil9keytWsw",
        "outputId": "32ee5a70-731e-4de7-d21e-5660f1ce9302"
      },
      "source": [
        "data.head()"
      ],
      "execution_count": null,
      "outputs": [
        {
          "output_type": "execute_result",
          "data": {
            "text/html": [
              "<div>\n",
              "<style scoped>\n",
              "    .dataframe tbody tr th:only-of-type {\n",
              "        vertical-align: middle;\n",
              "    }\n",
              "\n",
              "    .dataframe tbody tr th {\n",
              "        vertical-align: top;\n",
              "    }\n",
              "\n",
              "    .dataframe thead th {\n",
              "        text-align: right;\n",
              "    }\n",
              "</style>\n",
              "<table border=\"1\" class=\"dataframe\">\n",
              "  <thead>\n",
              "    <tr style=\"text-align: right;\">\n",
              "      <th></th>\n",
              "      <th>gender</th>\n",
              "      <th>age</th>\n",
              "      <th>hypertension</th>\n",
              "      <th>heart_disease</th>\n",
              "      <th>ever_married</th>\n",
              "      <th>Residence_type</th>\n",
              "      <th>avg_glucose_level</th>\n",
              "      <th>bmi</th>\n",
              "      <th>stroke</th>\n",
              "      <th>smoking_status_Unknown</th>\n",
              "      <th>smoking_status_formerly smoked</th>\n",
              "      <th>smoking_status_never smoked</th>\n",
              "      <th>smoking_status_smokes</th>\n",
              "      <th>work_type_Govt_job</th>\n",
              "      <th>work_type_Never_worked</th>\n",
              "      <th>work_type_Private</th>\n",
              "      <th>work_type_Self-employed</th>\n",
              "      <th>work_type_children</th>\n",
              "    </tr>\n",
              "  </thead>\n",
              "  <tbody>\n",
              "    <tr>\n",
              "      <th>0</th>\n",
              "      <td>1</td>\n",
              "      <td>67.0</td>\n",
              "      <td>0</td>\n",
              "      <td>1</td>\n",
              "      <td>1</td>\n",
              "      <td>1</td>\n",
              "      <td>228.69</td>\n",
              "      <td>36.600000</td>\n",
              "      <td>1</td>\n",
              "      <td>0</td>\n",
              "      <td>1</td>\n",
              "      <td>0</td>\n",
              "      <td>0</td>\n",
              "      <td>0</td>\n",
              "      <td>0</td>\n",
              "      <td>1</td>\n",
              "      <td>0</td>\n",
              "      <td>0</td>\n",
              "    </tr>\n",
              "    <tr>\n",
              "      <th>1</th>\n",
              "      <td>0</td>\n",
              "      <td>61.0</td>\n",
              "      <td>0</td>\n",
              "      <td>0</td>\n",
              "      <td>1</td>\n",
              "      <td>0</td>\n",
              "      <td>202.21</td>\n",
              "      <td>28.893237</td>\n",
              "      <td>1</td>\n",
              "      <td>0</td>\n",
              "      <td>0</td>\n",
              "      <td>1</td>\n",
              "      <td>0</td>\n",
              "      <td>0</td>\n",
              "      <td>0</td>\n",
              "      <td>0</td>\n",
              "      <td>1</td>\n",
              "      <td>0</td>\n",
              "    </tr>\n",
              "    <tr>\n",
              "      <th>2</th>\n",
              "      <td>1</td>\n",
              "      <td>80.0</td>\n",
              "      <td>0</td>\n",
              "      <td>1</td>\n",
              "      <td>1</td>\n",
              "      <td>0</td>\n",
              "      <td>105.92</td>\n",
              "      <td>32.500000</td>\n",
              "      <td>1</td>\n",
              "      <td>0</td>\n",
              "      <td>0</td>\n",
              "      <td>1</td>\n",
              "      <td>0</td>\n",
              "      <td>0</td>\n",
              "      <td>0</td>\n",
              "      <td>1</td>\n",
              "      <td>0</td>\n",
              "      <td>0</td>\n",
              "    </tr>\n",
              "    <tr>\n",
              "      <th>3</th>\n",
              "      <td>0</td>\n",
              "      <td>49.0</td>\n",
              "      <td>0</td>\n",
              "      <td>0</td>\n",
              "      <td>1</td>\n",
              "      <td>1</td>\n",
              "      <td>171.23</td>\n",
              "      <td>34.400000</td>\n",
              "      <td>1</td>\n",
              "      <td>0</td>\n",
              "      <td>0</td>\n",
              "      <td>0</td>\n",
              "      <td>1</td>\n",
              "      <td>0</td>\n",
              "      <td>0</td>\n",
              "      <td>1</td>\n",
              "      <td>0</td>\n",
              "      <td>0</td>\n",
              "    </tr>\n",
              "    <tr>\n",
              "      <th>4</th>\n",
              "      <td>0</td>\n",
              "      <td>79.0</td>\n",
              "      <td>1</td>\n",
              "      <td>0</td>\n",
              "      <td>1</td>\n",
              "      <td>0</td>\n",
              "      <td>174.12</td>\n",
              "      <td>24.000000</td>\n",
              "      <td>1</td>\n",
              "      <td>0</td>\n",
              "      <td>0</td>\n",
              "      <td>1</td>\n",
              "      <td>0</td>\n",
              "      <td>0</td>\n",
              "      <td>0</td>\n",
              "      <td>0</td>\n",
              "      <td>1</td>\n",
              "      <td>0</td>\n",
              "    </tr>\n",
              "  </tbody>\n",
              "</table>\n",
              "</div>"
            ],
            "text/plain": [
              "   gender   age  ...  work_type_Self-employed  work_type_children\n",
              "0       1  67.0  ...                        0                   0\n",
              "1       0  61.0  ...                        1                   0\n",
              "2       1  80.0  ...                        0                   0\n",
              "3       0  49.0  ...                        0                   0\n",
              "4       0  79.0  ...                        1                   0\n",
              "\n",
              "[5 rows x 18 columns]"
            ]
          },
          "metadata": {},
          "execution_count": 28
        }
      ]
    },
    {
      "cell_type": "code",
      "metadata": {
        "id": "2LwcehAIVXqs"
      },
      "source": [
        "# sns.pairplot(data=BU, hue='stroke')"
      ],
      "execution_count": null,
      "outputs": []
    },
    {
      "cell_type": "code",
      "metadata": {
        "id": "0zxYPzcb4at6"
      },
      "source": [
        "# ax=data[data.stroke !=1].plot.scatter(x='age', y='hypertension', c=\"k\", s=0.5,alpha=0.5,figsize=(20,10)) #ax זה הצירים\n",
        "# data[data.stroke ==1].plot.scatter(x='age', y='avg_glucose_level', c=\"r\", s=5,alpha=0.5, ax=ax) #ax argument allowed us to compare the axix of two charts #את הצבע נשים באדם\n",
        "# ax.set_aspect(0.01)"
      ],
      "execution_count": null,
      "outputs": []
    },
    {
      "cell_type": "markdown",
      "metadata": {
        "id": "2Nr-k2kcHiSU"
      },
      "source": [
        "## StandardScaler"
      ]
    },
    {
      "cell_type": "code",
      "metadata": {
        "id": "B4LhCrckJ8e3"
      },
      "source": [
        "scaled_Data = data.copy(deep=True)\n",
        "df2 = scaled_Data[['avg_glucose_level','bmi','age']]\n",
        "\n",
        "std=StandardScaler()\n",
        "scaled_col = std.fit_transform(df2)\n",
        "scaled_col = pd.DataFrame(scaled_col,columns=['avg_glucose_level','bmi','age'])\n",
        "\n",
        "scaled_Data=scaled_Data.drop(columns=['avg_glucose_level','bmi','age'],axis=1)\n",
        "scaled_Data=scaled_Data.merge(scaled_col, left_index=True, right_index=True, how = \"left\")"
      ],
      "execution_count": null,
      "outputs": []
    },
    {
      "cell_type": "markdown",
      "metadata": {
        "id": "aBEJrazgCB8g"
      },
      "source": [
        "\n",
        "## Splitting the Data to Train-Test"
      ]
    },
    {
      "cell_type": "code",
      "metadata": {
        "id": "2PhyiQZPhQoO"
      },
      "source": [
        "# labale & feature seperation\n",
        "X = data.drop(columns='stroke')     \n",
        "y= data['stroke']\n",
        "\n",
        "#split train Test\n",
        "X_train, X_test, y_train, y_test = train_test_split(X, y, test_size=0.3, stratify=data.stroke, random_state=1234)\n"
      ],
      "execution_count": null,
      "outputs": []
    },
    {
      "cell_type": "markdown",
      "metadata": {
        "id": "hPnDAWR1LYjr"
      },
      "source": [
        "## OverSampling (train data only)"
      ]
    },
    {
      "cell_type": "code",
      "metadata": {
        "colab": {
          "base_uri": "https://localhost:8080/"
        },
        "id": "dXxzQXwALfWo",
        "outputId": "942c6296-b71d-438b-dbff-44d4b5164ab4"
      },
      "source": [
        "from imblearn.over_sampling import SMOTE\n",
        "\n",
        "print(\"Before OverSampling, counts of label '1': {}\".format(sum(y_train==1)))\n",
        "print(\"Before OverSampling, counts of label '0': {} \\n\".format(sum(y_train==0)))\n",
        "\n",
        "sm = SMOTE(random_state=2)\n",
        "X_train_res, y_train_res = sm.fit_resample(X_train, y_train.ravel())\n",
        "\n",
        "print('After OverSampling, the shape of train_X: {}'.format(X_train_res.shape))\n",
        "print('After OverSampling, the shape of train_y: {} \\n'.format(y_train_res.shape))\n",
        "\n",
        "print(\"After OverSampling, counts of label '1': {}\".format(sum(y_train_res==1)))\n",
        "print(\"After OverSampling, counts of label '0': {}\".format(sum(y_train_res==0)))"
      ],
      "execution_count": null,
      "outputs": [
        {
          "output_type": "stream",
          "name": "stdout",
          "text": [
            "Before OverSampling, counts of label '1': 174\n",
            "Before OverSampling, counts of label '0': 3398 \n",
            "\n",
            "After OverSampling, the shape of train_X: (6796, 17)\n",
            "After OverSampling, the shape of train_y: (6796,) \n",
            "\n",
            "After OverSampling, counts of label '1': 3398\n",
            "After OverSampling, counts of label '0': 3398\n"
          ]
        }
      ]
    },
    {
      "cell_type": "code",
      "metadata": {
        "id": "lpC_W7bctY_X"
      },
      "source": [
        ""
      ],
      "execution_count": null,
      "outputs": []
    },
    {
      "cell_type": "code",
      "metadata": {
        "id": "fsrEqXXwylO5"
      },
      "source": [
        "#Do the train data with OS\n",
        "X_train= pd.DataFrame(X_train_res, columns=X_train.columns) ########### לשנות את השם\n",
        "y_train= pd.Series(y_train_res)"
      ],
      "execution_count": null,
      "outputs": []
    },
    {
      "cell_type": "markdown",
      "metadata": {
        "id": "cIqAj3IOYIaD"
      },
      "source": [
        "##Feature selection"
      ]
    },
    {
      "cell_type": "code",
      "metadata": {
        "colab": {
          "base_uri": "https://localhost:8080/",
          "height": 244
        },
        "id": "qNj-ZZcPZbzi",
        "outputId": "62e01a5e-9b28-41c4-c3ff-dcdf48efacca"
      },
      "source": [
        "numFeatures   = 5\n",
        "vMethods      = [chi2, f_classif, mutual_info_classif]\n",
        "vMethodsSring = ['Chi 2', 'ANOVA F Value', 'Mutual Informatiom']\n",
        "\n",
        "mMutualSelection = np.zeros((len(vMethods), X_train.shape[1]), dtype=bool)\n",
        "\n",
        "for ii, iMethod in enumerate(vMethods):\n",
        "  mMutualSelection[ii, :] = SelectKBest(score_func = iMethod, k = numFeatures).fit(X_train, y_train).get_support()\n",
        "\n",
        "dfMutualSelection = pd.DataFrame(data = mMutualSelection, index = vMethodsSring, columns = X_train.columns, copy = True)\n",
        "dfMutualSelection.index.name = 'Method'\n",
        "\n",
        "dfMutualSelection"
      ],
      "execution_count": null,
      "outputs": [
        {
          "output_type": "execute_result",
          "data": {
            "text/html": [
              "<div>\n",
              "<style scoped>\n",
              "    .dataframe tbody tr th:only-of-type {\n",
              "        vertical-align: middle;\n",
              "    }\n",
              "\n",
              "    .dataframe tbody tr th {\n",
              "        vertical-align: top;\n",
              "    }\n",
              "\n",
              "    .dataframe thead th {\n",
              "        text-align: right;\n",
              "    }\n",
              "</style>\n",
              "<table border=\"1\" class=\"dataframe\">\n",
              "  <thead>\n",
              "    <tr style=\"text-align: right;\">\n",
              "      <th></th>\n",
              "      <th>gender</th>\n",
              "      <th>age</th>\n",
              "      <th>hypertension</th>\n",
              "      <th>heart_disease</th>\n",
              "      <th>ever_married</th>\n",
              "      <th>Residence_type</th>\n",
              "      <th>avg_glucose_level</th>\n",
              "      <th>bmi</th>\n",
              "      <th>smoking_status_Unknown</th>\n",
              "      <th>smoking_status_formerly smoked</th>\n",
              "      <th>smoking_status_never smoked</th>\n",
              "      <th>smoking_status_smokes</th>\n",
              "      <th>work_type_Govt_job</th>\n",
              "      <th>work_type_Never_worked</th>\n",
              "      <th>work_type_Private</th>\n",
              "      <th>work_type_Self-employed</th>\n",
              "      <th>work_type_children</th>\n",
              "    </tr>\n",
              "    <tr>\n",
              "      <th>Method</th>\n",
              "      <th></th>\n",
              "      <th></th>\n",
              "      <th></th>\n",
              "      <th></th>\n",
              "      <th></th>\n",
              "      <th></th>\n",
              "      <th></th>\n",
              "      <th></th>\n",
              "      <th></th>\n",
              "      <th></th>\n",
              "      <th></th>\n",
              "      <th></th>\n",
              "      <th></th>\n",
              "      <th></th>\n",
              "      <th></th>\n",
              "      <th></th>\n",
              "      <th></th>\n",
              "    </tr>\n",
              "  </thead>\n",
              "  <tbody>\n",
              "    <tr>\n",
              "      <th>Chi 2</th>\n",
              "      <td>False</td>\n",
              "      <td>True</td>\n",
              "      <td>True</td>\n",
              "      <td>True</td>\n",
              "      <td>False</td>\n",
              "      <td>False</td>\n",
              "      <td>True</td>\n",
              "      <td>False</td>\n",
              "      <td>False</td>\n",
              "      <td>False</td>\n",
              "      <td>False</td>\n",
              "      <td>False</td>\n",
              "      <td>False</td>\n",
              "      <td>False</td>\n",
              "      <td>False</td>\n",
              "      <td>False</td>\n",
              "      <td>True</td>\n",
              "    </tr>\n",
              "    <tr>\n",
              "      <th>ANOVA F Value</th>\n",
              "      <td>False</td>\n",
              "      <td>True</td>\n",
              "      <td>True</td>\n",
              "      <td>True</td>\n",
              "      <td>True</td>\n",
              "      <td>False</td>\n",
              "      <td>False</td>\n",
              "      <td>False</td>\n",
              "      <td>False</td>\n",
              "      <td>False</td>\n",
              "      <td>False</td>\n",
              "      <td>False</td>\n",
              "      <td>False</td>\n",
              "      <td>False</td>\n",
              "      <td>False</td>\n",
              "      <td>False</td>\n",
              "      <td>True</td>\n",
              "    </tr>\n",
              "    <tr>\n",
              "      <th>Mutual Informatiom</th>\n",
              "      <td>True</td>\n",
              "      <td>True</td>\n",
              "      <td>False</td>\n",
              "      <td>False</td>\n",
              "      <td>False</td>\n",
              "      <td>True</td>\n",
              "      <td>False</td>\n",
              "      <td>True</td>\n",
              "      <td>False</td>\n",
              "      <td>False</td>\n",
              "      <td>False</td>\n",
              "      <td>False</td>\n",
              "      <td>False</td>\n",
              "      <td>False</td>\n",
              "      <td>True</td>\n",
              "      <td>False</td>\n",
              "      <td>False</td>\n",
              "    </tr>\n",
              "  </tbody>\n",
              "</table>\n",
              "</div>"
            ],
            "text/plain": [
              "                    gender   age  ...  work_type_Self-employed  work_type_children\n",
              "Method                            ...                                             \n",
              "Chi 2                False  True  ...                    False                True\n",
              "ANOVA F Value        False  True  ...                    False                True\n",
              "Mutual Informatiom    True  True  ...                    False               False\n",
              "\n",
              "[3 rows x 17 columns]"
            ]
          },
          "metadata": {},
          "execution_count": 35
        }
      ]
    },
    {
      "cell_type": "code",
      "metadata": {
        "id": "p3IXqtWOWaF-"
      },
      "source": [
        "# שימוש בפיצ'רים החשובים ביותר לפי השיטות חישוב השונות (לשקול לשנות שם לחלוקה לאחר בחירת פיצ'רים)\n",
        "X_train= X_train[['age','hypertension','heart_disease','avg_glucose_level']]\n",
        "X_test= X_test[['age','hypertension','heart_disease','avg_glucose_level']]"
      ],
      "execution_count": null,
      "outputs": []
    },
    {
      "cell_type": "markdown",
      "metadata": {
        "id": "k1Ki48vjFry_"
      },
      "source": [
        "#Models\n",
        "\n"
      ]
    },
    {
      "cell_type": "markdown",
      "metadata": {
        "id": "By1GHzTFg6im"
      },
      "source": [
        "## Score Functions\n",
        "\n"
      ]
    },
    {
      "cell_type": "markdown",
      "metadata": {
        "id": "WO_0WNWBg_nk"
      },
      "source": [
        "Since our goal is to predict a dangerouse medical condition, we shall give more attention to the Recall function. With that being said, we still would like to avoid an \"all-true\" model so we shall find a better scoring function to use while choosing the best parameters for a model, in a way that we give our Recall more attention.\n",
        "Thus, the first option that was on our mind was the F-score when choosing beta to be 2 in order to favor Recall over precision.\n",
        "https://en.wikipedia.org/wiki/F-score\n",
        "\n",
        "\n",
        "Since our data is imballanced, we decided to take into account two more possible scroring function:\n",
        "1. Ballanced Accuracy\n",
        "https://statisticaloddsandends.wordpress.com/2020/01/23/what-is-balanced-accuracy/\n",
        "\n",
        "2. Matthews correlation coefficient\n",
        "https://en.wikipedia.org/wiki/Matthews_correlation_coefficient\n"
      ]
    },
    {
      "cell_type": "markdown",
      "metadata": {
        "id": "dW5w1LYzGMgB"
      },
      "source": [
        "## Gradient Boosting"
      ]
    },
    {
      "cell_type": "code",
      "metadata": {
        "id": "7WW7iJ2J7avl",
        "colab": {
          "base_uri": "https://localhost:8080/"
        },
        "outputId": "f42631f5-599f-4667-ed54-4856d094db3a"
      },
      "source": [
        "from sklearn.ensemble import  GradientBoostingClassifier\n",
        "clf_GB = GradientBoostingClassifier(max_depth = 5, n_estimators = 300, learning_rate = 0.01, random_state = 1234)\n",
        "clf_GB.fit(X_train, y_train)"
      ],
      "execution_count": null,
      "outputs": [
        {
          "output_type": "execute_result",
          "data": {
            "text/plain": [
              "GradientBoostingClassifier(ccp_alpha=0.0, criterion='friedman_mse', init=None,\n",
              "                           learning_rate=0.01, loss='deviance', max_depth=5,\n",
              "                           max_features=None, max_leaf_nodes=None,\n",
              "                           min_impurity_decrease=0.0, min_impurity_split=None,\n",
              "                           min_samples_leaf=1, min_samples_split=2,\n",
              "                           min_weight_fraction_leaf=0.0, n_estimators=300,\n",
              "                           n_iter_no_change=None, presort='deprecated',\n",
              "                           random_state=1234, subsample=1.0, tol=0.0001,\n",
              "                           validation_fraction=0.1, verbose=0,\n",
              "                           warm_start=False)"
            ]
          },
          "metadata": {},
          "execution_count": 324
        }
      ]
    },
    {
      "cell_type": "code",
      "metadata": {
        "id": "VmLrKAei7avo",
        "colab": {
          "base_uri": "https://localhost:8080/"
        },
        "outputId": "f3eb0c45-4002-4a61-eb5c-69dc8def9998"
      },
      "source": [
        "print(\"{:3} classifier:\\n \\\n",
        "    \\ttrain accuracy: {:.2f}\\n \\\n",
        "    \\ttest accuracy: {:.2f}\"\\\n",
        "    .format('DT Gradient Boosting', \n",
        "            accuracy_score(clf_GB.predict(X_train), y_train), \n",
        "            accuracy_score(clf_GB.predict(X_test), y_test)))"
      ],
      "execution_count": null,
      "outputs": [
        {
          "output_type": "stream",
          "name": "stdout",
          "text": [
            "DT Gradient Boosting classifier:\n",
            "     \ttrain accuracy: 0.90\n",
            "     \ttest accuracy: 0.84\n"
          ]
        }
      ]
    },
    {
      "cell_type": "code",
      "metadata": {
        "id": "Ez12r7fvGpak"
      },
      "source": [
        "y_pred_GB=clf_adaboost.predict(X_test)"
      ],
      "execution_count": null,
      "outputs": []
    },
    {
      "cell_type": "code",
      "metadata": {
        "colab": {
          "base_uri": "https://localhost:8080/",
          "height": 110
        },
        "id": "vnk_R3n_Gpal",
        "outputId": "786e2845-367d-4d5d-b3f9-1227c6405863"
      },
      "source": [
        "cm_GB = confusion_matrix(y_true=y_test, y_pred=y_pred_GB)\n",
        "pd.DataFrame(cm_GB, index=clf_GB.classes_, columns=clf_GB.classes_)"
      ],
      "execution_count": null,
      "outputs": [
        {
          "output_type": "execute_result",
          "data": {
            "text/html": [
              "<div>\n",
              "<style scoped>\n",
              "    .dataframe tbody tr th:only-of-type {\n",
              "        vertical-align: middle;\n",
              "    }\n",
              "\n",
              "    .dataframe tbody tr th {\n",
              "        vertical-align: top;\n",
              "    }\n",
              "\n",
              "    .dataframe thead th {\n",
              "        text-align: right;\n",
              "    }\n",
              "</style>\n",
              "<table border=\"1\" class=\"dataframe\">\n",
              "  <thead>\n",
              "    <tr style=\"text-align: right;\">\n",
              "      <th></th>\n",
              "      <th>0</th>\n",
              "      <th>1</th>\n",
              "    </tr>\n",
              "  </thead>\n",
              "  <tbody>\n",
              "    <tr>\n",
              "      <th>0</th>\n",
              "      <td>1069</td>\n",
              "      <td>388</td>\n",
              "    </tr>\n",
              "    <tr>\n",
              "      <th>1</th>\n",
              "      <td>17</td>\n",
              "      <td>58</td>\n",
              "    </tr>\n",
              "  </tbody>\n",
              "</table>\n",
              "</div>"
            ],
            "text/plain": [
              "      0    1\n",
              "0  1069  388\n",
              "1    17   58"
            ]
          },
          "metadata": {},
          "execution_count": 327
        }
      ]
    },
    {
      "cell_type": "markdown",
      "metadata": {
        "id": "6eqTwr0B8OQE"
      },
      "source": [
        "## **Ada Boosting**"
      ]
    },
    {
      "cell_type": "code",
      "metadata": {
        "id": "M9qmRxXO7avV"
      },
      "source": [
        "clf_base = DecisionTreeClassifier(max_depth = 5, random_state = 1234)# ,class_weight={0:1, 1:4.5})"
      ],
      "execution_count": null,
      "outputs": []
    },
    {
      "cell_type": "code",
      "metadata": {
        "id": "l_m_5QNWCGDN"
      },
      "source": [
        "clf_base= LogisticRegression(random_state = 1234)#,C=1e-05)"
      ],
      "execution_count": null,
      "outputs": []
    },
    {
      "cell_type": "code",
      "metadata": {
        "id": "bWbsAXsf7avY",
        "colab": {
          "base_uri": "https://localhost:8080/"
        },
        "outputId": "b0902bd6-5dab-410c-b5e5-f09e60cf7fa2"
      },
      "source": [
        "from sklearn.ensemble import AdaBoostClassifier\n",
        "clf_adaboost = AdaBoostClassifier(base_estimator = clf_base, n_estimators = 300, learning_rate = 1e-03, random_state = 1234)\n",
        "clf_adaboost.fit(X_train, y_train)"
      ],
      "execution_count": null,
      "outputs": [
        {
          "output_type": "execute_result",
          "data": {
            "text/plain": [
              "AdaBoostClassifier(algorithm='SAMME.R',\n",
              "                   base_estimator=LogisticRegression(C=1.0, class_weight=None,\n",
              "                                                     dual=False,\n",
              "                                                     fit_intercept=True,\n",
              "                                                     intercept_scaling=1,\n",
              "                                                     l1_ratio=None,\n",
              "                                                     max_iter=100,\n",
              "                                                     multi_class='auto',\n",
              "                                                     n_jobs=None, penalty='l2',\n",
              "                                                     random_state=1234,\n",
              "                                                     solver='lbfgs', tol=0.0001,\n",
              "                                                     verbose=0,\n",
              "                                                     warm_start=False),\n",
              "                   learning_rate=0.001, n_estimators=300, random_state=1234)"
            ]
          },
          "metadata": {},
          "execution_count": 268
        }
      ]
    },
    {
      "cell_type": "code",
      "metadata": {
        "id": "cK_O9QOQ7avc",
        "colab": {
          "base_uri": "https://localhost:8080/"
        },
        "outputId": "e206c6e3-be00-417d-f5ca-c5899688ca76"
      },
      "source": [
        "print(f\"DT ADA boosting classifier:\\n \\\n",
        "    \\ttrain accuracy: {accuracy_score(clf_adaboost.predict(X_train), y_train):.2f}\\n \\\n",
        "    \\ttest accuracy: {accuracy_score(clf_adaboost.predict(X_test), y_test):.2f}\")"
      ],
      "execution_count": null,
      "outputs": [
        {
          "output_type": "stream",
          "name": "stdout",
          "text": [
            "DT ADA boosting classifier:\n",
            "     \ttrain accuracy: 0.77\n",
            "     \ttest accuracy: 0.74\n"
          ]
        }
      ]
    },
    {
      "cell_type": "code",
      "metadata": {
        "id": "Sfv1dYHG9HsA"
      },
      "source": [
        "y_pred_ada=clf_adaboost.predict(X_test)"
      ],
      "execution_count": null,
      "outputs": []
    },
    {
      "cell_type": "code",
      "metadata": {
        "colab": {
          "base_uri": "https://localhost:8080/",
          "height": 110
        },
        "id": "V1KSY29C8zwU",
        "outputId": "033d2a73-99b0-4434-9022-0e64c3ae6914"
      },
      "source": [
        "cm_ada = confusion_matrix(y_true=y_test, y_pred=y_pred_ada)\n",
        "pd.DataFrame(cm_ada, index=clf_adaboost.classes_, columns=clf_adaboost.classes_)"
      ],
      "execution_count": null,
      "outputs": [
        {
          "output_type": "execute_result",
          "data": {
            "text/html": [
              "<div>\n",
              "<style scoped>\n",
              "    .dataframe tbody tr th:only-of-type {\n",
              "        vertical-align: middle;\n",
              "    }\n",
              "\n",
              "    .dataframe tbody tr th {\n",
              "        vertical-align: top;\n",
              "    }\n",
              "\n",
              "    .dataframe thead th {\n",
              "        text-align: right;\n",
              "    }\n",
              "</style>\n",
              "<table border=\"1\" class=\"dataframe\">\n",
              "  <thead>\n",
              "    <tr style=\"text-align: right;\">\n",
              "      <th></th>\n",
              "      <th>0</th>\n",
              "      <th>1</th>\n",
              "    </tr>\n",
              "  </thead>\n",
              "  <tbody>\n",
              "    <tr>\n",
              "      <th>0</th>\n",
              "      <td>1069</td>\n",
              "      <td>388</td>\n",
              "    </tr>\n",
              "    <tr>\n",
              "      <th>1</th>\n",
              "      <td>17</td>\n",
              "      <td>58</td>\n",
              "    </tr>\n",
              "  </tbody>\n",
              "</table>\n",
              "</div>"
            ],
            "text/plain": [
              "      0    1\n",
              "0  1069  388\n",
              "1    17   58"
            ]
          },
          "metadata": {},
          "execution_count": 271
        }
      ]
    },
    {
      "cell_type": "markdown",
      "metadata": {
        "id": "i9g6R-LwVxQK"
      },
      "source": [
        "## Ensemble method"
      ]
    },
    {
      "cell_type": "code",
      "metadata": {
        "id": "9NvUoArz7auN"
      },
      "source": [
        "#הגדרת 3 מסווגים\n",
        "from sklearn.tree import DecisionTreeClassifier\n",
        "clf1 = LogisticRegression(random_state = 1234, class_weight={0: 1, 1: 95},C=1e-05)\n",
        "clf2 = DecisionTreeClassifier(max_depth = 5, random_state = 1234)\n",
        "clf3 = SVC(probability = True, random_state = 1234,kernel='rbf')\n",
        "\n",
        "classifiers = [('LR', clf1), ('DT', clf2), ('SVM', clf3)]"
      ],
      "execution_count": null,
      "outputs": []
    },
    {
      "cell_type": "code",
      "metadata": {
        "id": "n8Os4_0e7aue",
        "colab": {
          "base_uri": "https://localhost:8080/"
        },
        "outputId": "d5f2fd43-cd0d-44f4-9ad4-1c597700529a"
      },
      "source": [
        "from sklearn.ensemble import VotingClassifier\n",
        "clf_voting = VotingClassifier(estimators = classifiers, voting = 'soft') \n",
        "clf_voting.fit(X_train, y_train)"
      ],
      "execution_count": null,
      "outputs": [
        {
          "output_type": "execute_result",
          "data": {
            "text/plain": [
              "VotingClassifier(estimators=[('LR',\n",
              "                              LogisticRegression(C=1e-05,\n",
              "                                                 class_weight={0: 1, 1: 95},\n",
              "                                                 dual=False, fit_intercept=True,\n",
              "                                                 intercept_scaling=1,\n",
              "                                                 l1_ratio=None, max_iter=100,\n",
              "                                                 multi_class='auto',\n",
              "                                                 n_jobs=None, penalty='l2',\n",
              "                                                 random_state=1234,\n",
              "                                                 solver='lbfgs', tol=0.0001,\n",
              "                                                 verbose=0, warm_start=False)),\n",
              "                             ('DT',\n",
              "                              DecisionTreeClassifier(ccp_alpha=0.0,\n",
              "                                                     class_weight=None,\n",
              "                                                     criterion...\n",
              "                                                     presort='deprecated',\n",
              "                                                     random_state=1234,\n",
              "                                                     splitter='best')),\n",
              "                             ('SVM',\n",
              "                              SVC(C=1.0, break_ties=False, cache_size=200,\n",
              "                                  class_weight=None, coef0=0.0,\n",
              "                                  decision_function_shape='ovr', degree=3,\n",
              "                                  gamma='scale', kernel='rbf', max_iter=-1,\n",
              "                                  probability=True, random_state=1234,\n",
              "                                  shrinking=True, tol=0.001, verbose=False))],\n",
              "                 flatten_transform=True, n_jobs=None, voting='soft',\n",
              "                 weights=None)"
            ]
          },
          "metadata": {},
          "execution_count": 49
        }
      ]
    },
    {
      "cell_type": "code",
      "metadata": {
        "id": "zf2QXz_VrVmE",
        "colab": {
          "base_uri": "https://localhost:8080/"
        },
        "outputId": "4a767842-d29b-4a5c-ae80-6b86369f55fb"
      },
      "source": [
        "clf_voting.predict_proba(X_train) #<! Exist only for `soft` mode"
      ],
      "execution_count": null,
      "outputs": [
        {
          "output_type": "execute_result",
          "data": {
            "text/plain": [
              "array([[0.6178564 , 0.3821436 ],\n",
              "       [0.36810544, 0.63189456],\n",
              "       [0.33846176, 0.66153824],\n",
              "       ...,\n",
              "       [0.06991964, 0.93008036],\n",
              "       [0.16926853, 0.83073147],\n",
              "       [0.07323614, 0.92676386]])"
            ]
          },
          "metadata": {},
          "execution_count": 50
        }
      ]
    },
    {
      "cell_type": "code",
      "metadata": {
        "id": "4POiu5smZoZo"
      },
      "source": [
        "y_pred=clf_voting.predict(X_test)"
      ],
      "execution_count": null,
      "outputs": []
    },
    {
      "cell_type": "code",
      "metadata": {
        "id": "ioJ8r2x07auh",
        "colab": {
          "base_uri": "https://localhost:8080/"
        },
        "outputId": "56c6e391-2820-4427-c91b-8a984293b7b8"
      },
      "source": [
        "print(f\"train accuracy: {clf_voting.score(X_train, y_train):.2f}\\n\\\n",
        "test accuracy: {clf_voting.score(X_test, y_test):.2f}\")"
      ],
      "execution_count": null,
      "outputs": [
        {
          "output_type": "stream",
          "name": "stdout",
          "text": [
            "train accuracy: 0.76\n",
            "test accuracy: 0.54\n"
          ]
        }
      ]
    },
    {
      "cell_type": "code",
      "metadata": {
        "colab": {
          "base_uri": "https://localhost:8080/",
          "height": 110
        },
        "id": "-iLl_Le2ZQw4",
        "outputId": "cb6bdbbd-8142-42f9-a1ba-50966a6caee9"
      },
      "source": [
        "cm = confusion_matrix(y_true=y_test, y_pred=y_pred)\n",
        "pd.DataFrame(cm, index=clf_voting.classes_, columns=clf_voting.classes_)"
      ],
      "execution_count": null,
      "outputs": [
        {
          "output_type": "execute_result",
          "data": {
            "text/html": [
              "<div>\n",
              "<style scoped>\n",
              "    .dataframe tbody tr th:only-of-type {\n",
              "        vertical-align: middle;\n",
              "    }\n",
              "\n",
              "    .dataframe tbody tr th {\n",
              "        vertical-align: top;\n",
              "    }\n",
              "\n",
              "    .dataframe thead th {\n",
              "        text-align: right;\n",
              "    }\n",
              "</style>\n",
              "<table border=\"1\" class=\"dataframe\">\n",
              "  <thead>\n",
              "    <tr style=\"text-align: right;\">\n",
              "      <th></th>\n",
              "      <th>0</th>\n",
              "      <th>1</th>\n",
              "    </tr>\n",
              "  </thead>\n",
              "  <tbody>\n",
              "    <tr>\n",
              "      <th>0</th>\n",
              "      <td>753</td>\n",
              "      <td>704</td>\n",
              "    </tr>\n",
              "    <tr>\n",
              "      <th>1</th>\n",
              "      <td>4</td>\n",
              "      <td>71</td>\n",
              "    </tr>\n",
              "  </tbody>\n",
              "</table>\n",
              "</div>"
            ],
            "text/plain": [
              "     0    1\n",
              "0  753  704\n",
              "1    4   71"
            ]
          },
          "metadata": {},
          "execution_count": 53
        }
      ]
    },
    {
      "cell_type": "code",
      "metadata": {
        "id": "2Mn1KgIiCbAm"
      },
      "source": [
        "params  = {'LR__C': [1e-5,10,50],'LR__class_weight':[{0: 1, 1: 95},{0: 1, 1: 100},{0: 1, 1: 80}],\n",
        "           'SVM__kernel': ['rbf']}\n",
        "grid  = GridSearchCV(estimator=clf_voting, param_grid=params, scoring='f1')"
      ],
      "execution_count": null,
      "outputs": []
    },
    {
      "cell_type": "code",
      "metadata": {
        "colab": {
          "base_uri": "https://localhost:8080/"
        },
        "id": "PswDdis7Cbkn",
        "outputId": "e3af31c4-fbca-4dbe-c37b-7317d4376c32"
      },
      "source": [
        "grid .fit(X_train, y_train)\n"
      ],
      "execution_count": null,
      "outputs": [
        {
          "output_type": "execute_result",
          "data": {
            "text/plain": [
              "GridSearchCV(cv=None, error_score=nan,\n",
              "             estimator=VotingClassifier(estimators=[('LR',\n",
              "                                                     LogisticRegression(C=1e-05,\n",
              "                                                                        class_weight={0: 1,\n",
              "                                                                                      1: 95},\n",
              "                                                                        dual=False,\n",
              "                                                                        fit_intercept=True,\n",
              "                                                                        intercept_scaling=1,\n",
              "                                                                        l1_ratio=None,\n",
              "                                                                        max_iter=100,\n",
              "                                                                        multi_class='auto',\n",
              "                                                                        n_jobs=None,\n",
              "                                                                        penalty='l2',\n",
              "                                                                        random_state=1234,\n",
              "                                                                        solver='lbfgs',\n",
              "                                                                        tol=0.0001,\n",
              "                                                                        verbose=0,\n",
              "                                                                        warm_start=False)),\n",
              "                                                    ('DT',\n",
              "                                                     DecisionTreeClass...\n",
              "                                                         probability=True,\n",
              "                                                         random_state=1234,\n",
              "                                                         shrinking=True,\n",
              "                                                         tol=0.001,\n",
              "                                                         verbose=False))],\n",
              "                                        flatten_transform=True, n_jobs=None,\n",
              "                                        voting='soft', weights=None),\n",
              "             iid='deprecated', n_jobs=None,\n",
              "             param_grid={'LR__C': [1e-05, 10, 50],\n",
              "                         'LR__class_weight': [{0: 1, 1: 95}, {0: 1, 1: 100},\n",
              "                                              {0: 1, 1: 80}],\n",
              "                         'SVM__kernel': ['rbf']},\n",
              "             pre_dispatch='2*n_jobs', refit=True, return_train_score=False,\n",
              "             scoring='f1', verbose=0)"
            ]
          },
          "metadata": {},
          "execution_count": 59
        }
      ]
    },
    {
      "cell_type": "code",
      "metadata": {
        "colab": {
          "base_uri": "https://localhost:8080/"
        },
        "id": "6lzcvvbrCmQf",
        "outputId": "b0d2d3a3-23f8-442d-b7e6-ca7709054be3"
      },
      "source": [
        "grid .best_score_"
      ],
      "execution_count": null,
      "outputs": [
        {
          "output_type": "execute_result",
          "data": {
            "text/plain": [
              "0.9741037858442345"
            ]
          },
          "metadata": {},
          "execution_count": 45
        }
      ]
    },
    {
      "cell_type": "code",
      "metadata": {
        "colab": {
          "base_uri": "https://localhost:8080/"
        },
        "id": "14aK6XpkCmQi",
        "outputId": "f50d4dbc-b3a4-4df4-f4fe-a4bdc3be09ba"
      },
      "source": [
        "grid .best_params_\n"
      ],
      "execution_count": null,
      "outputs": [
        {
          "output_type": "execute_result",
          "data": {
            "text/plain": [
              "{'LR__C': 1e-05, 'LR__class_weight': {0: 1, 1: 100}, 'SVM__kernel': 'rbf'}"
            ]
          },
          "metadata": {},
          "execution_count": 46
        }
      ]
    },
    {
      "cell_type": "markdown",
      "metadata": {
        "id": "T9ls2vryAFRZ"
      },
      "source": [
        "##Logistic Regression"
      ]
    },
    {
      "cell_type": "code",
      "metadata": {
        "colab": {
          "base_uri": "https://localhost:8080/"
        },
        "id": "Yd7DMC5GF2fr",
        "outputId": "c8383f87-ed74-43f5-9a10-c9069bd8f473"
      },
      "source": [
        "data_LR = LogisticRegression( )#, class_weight={0: 1, 1: 95})\n",
        "F=data_LR.fit(X_train, y_train)\n",
        "\n",
        "score = data_LR.score(X_test, y_test)\n",
        "print('Testing Score \\n',score)\n",
        "logistic_score = data_LR.score(X_train, y_train)\n",
        "logistic_test = data_LR.score(X_test, y_test)\n",
        "#== \n",
        "treshold=0.5\n",
        "y_pred= data_LR.predict_proba(X_test)[:,1]>=treshold\n",
        "print(classification_report(y_test, y_pred))"
      ],
      "execution_count": null,
      "outputs": [
        {
          "output_type": "stream",
          "name": "stdout",
          "text": [
            "Testing Score \n",
            " 0.7389033942558747\n",
            "              precision    recall  f1-score   support\n",
            "\n",
            "           0       0.99      0.74      0.84      1457\n",
            "           1       0.14      0.81      0.23        75\n",
            "\n",
            "    accuracy                           0.74      1532\n",
            "   macro avg       0.56      0.77      0.54      1532\n",
            "weighted avg       0.95      0.74      0.81      1532\n",
            "\n"
          ]
        }
      ]
    },
    {
      "cell_type": "markdown",
      "metadata": {
        "id": "rx0j1Sz6TUsK"
      },
      "source": [
        "https://stats.stackexchange.com/questions/384833/adjusting-probability-threshold-for-sklearns-logistic-regression-model"
      ]
    },
    {
      "cell_type": "code",
      "metadata": {
        "colab": {
          "base_uri": "https://localhost:8080/",
          "height": 110
        },
        "id": "-Bx5wX81NUI6",
        "outputId": "07560bfd-2010-4042-fcc2-6e2ba1eb4423"
      },
      "source": [
        "#Asess the Model\n",
        "cm = confusion_matrix(y_true=y_test, y_pred=y_pred)\n",
        "pd.DataFrame(cm, index=data_LR.classes_, columns=data_LR.classes_)"
      ],
      "execution_count": null,
      "outputs": [
        {
          "output_type": "execute_result",
          "data": {
            "text/html": [
              "<div>\n",
              "<style scoped>\n",
              "    .dataframe tbody tr th:only-of-type {\n",
              "        vertical-align: middle;\n",
              "    }\n",
              "\n",
              "    .dataframe tbody tr th {\n",
              "        vertical-align: top;\n",
              "    }\n",
              "\n",
              "    .dataframe thead th {\n",
              "        text-align: right;\n",
              "    }\n",
              "</style>\n",
              "<table border=\"1\" class=\"dataframe\">\n",
              "  <thead>\n",
              "    <tr style=\"text-align: right;\">\n",
              "      <th></th>\n",
              "      <th>0</th>\n",
              "      <th>1</th>\n",
              "    </tr>\n",
              "  </thead>\n",
              "  <tbody>\n",
              "    <tr>\n",
              "      <th>0</th>\n",
              "      <td>1055</td>\n",
              "      <td>402</td>\n",
              "    </tr>\n",
              "    <tr>\n",
              "      <th>1</th>\n",
              "      <td>16</td>\n",
              "      <td>59</td>\n",
              "    </tr>\n",
              "  </tbody>\n",
              "</table>\n",
              "</div>"
            ],
            "text/plain": [
              "      0    1\n",
              "0  1055  402\n",
              "1    16   59"
            ]
          },
          "metadata": {},
          "execution_count": 388
        }
      ]
    },
    {
      "cell_type": "code",
      "metadata": {
        "colab": {
          "base_uri": "https://localhost:8080/"
        },
        "id": "jNoL7oq2Sjuz",
        "outputId": "371a4a50-bcd7-49c3-ba03-6ab7e3791736"
      },
      "source": [
        "# הפרמטרים שהמודל השתמש, שנדע בשביל גריד...\n",
        "data_LR.get_params()"
      ],
      "execution_count": null,
      "outputs": [
        {
          "output_type": "execute_result",
          "data": {
            "text/plain": [
              "{'C': 1e-05,\n",
              " 'class_weight': None,\n",
              " 'dual': False,\n",
              " 'fit_intercept': True,\n",
              " 'intercept_scaling': 1,\n",
              " 'l1_ratio': None,\n",
              " 'max_iter': 100,\n",
              " 'multi_class': 'auto',\n",
              " 'n_jobs': None,\n",
              " 'penalty': 'l2',\n",
              " 'random_state': None,\n",
              " 'solver': 'lbfgs',\n",
              " 'tol': 0.0001,\n",
              " 'verbose': 0,\n",
              " 'warm_start': False}"
            ]
          },
          "metadata": {},
          "execution_count": 389
        }
      ]
    },
    {
      "cell_type": "markdown",
      "metadata": {
        "id": "oaAabQ5GOlC9"
      },
      "source": [
        "\n",
        "\n",
        "### StratifiedShuffleSplit"
      ]
    },
    {
      "cell_type": "code",
      "metadata": {
        "id": "2Q6bTGX6PSFU"
      },
      "source": [
        "from sklearn.model_selection import StratifiedShuffleSplit  # מגריל כמה פעמים חלוקה לטריין וטסט בגודל 75 אחוז\n",
        "my_cv = StratifiedShuffleSplit(n_splits = 5, train_size = 0.75, random_state = 1234) #<! See https://scikit-learn.org/stable/modules/classes.html#splitter-classes\n"
      ],
      "execution_count": null,
      "outputs": []
    },
    {
      "cell_type": "code",
      "metadata": {
        "colab": {
          "base_uri": "https://localhost:8080/"
        },
        "id": "Knx3rJ1uPWyh",
        "outputId": "1d3dbb18-db62-4ebf-d530-48f2fd2935f0"
      },
      "source": [
        "-cross_val_score(F, X_train, y_train, cv=my_cv, scoring='neg_log_loss') #<! Make sure there at least n_splits of each lable by y_train.val_counts()\n"
      ],
      "execution_count": null,
      "outputs": [
        {
          "output_type": "execute_result",
          "data": {
            "text/plain": [
              "array([0.47762865, 0.4522605 , 0.4804012 , 0.47269518, 0.47517296])"
            ]
          },
          "metadata": {},
          "execution_count": 166
        }
      ]
    },
    {
      "cell_type": "markdown",
      "metadata": {
        "id": "HFqMv2JFRh8I"
      },
      "source": [
        "### Grid Search & Cross Validation"
      ]
    },
    {
      "cell_type": "code",
      "metadata": {
        "id": "Ogre-sF1Oryx"
      },
      "source": [
        "my_param_grid = {'C': [1e-5, 5e-5, 1e-4, 5e-4, 1e-3, 5e-3], 'penalty': ['l1', 'l2', 'elasticnet']} #, 'class_weight':[]}\n",
        "#<! my_cv -> n_splits = 5\n",
        "lr_model = GridSearchCV(estimator=LogisticRegression(max_iter=10), param_grid=my_param_grid, scoring='recall', cv=my_cv)"
      ],
      "execution_count": null,
      "outputs": []
    },
    {
      "cell_type": "code",
      "metadata": {
        "colab": {
          "base_uri": "https://localhost:8080/"
        },
        "id": "1nSo20LqPDqM",
        "outputId": "610682ad-b99e-4526-ae12-66a9048fc134"
      },
      "source": [
        "from time import time\n",
        "t1 = time()\n",
        "lr_model.fit(X_train, y_train)\n",
        "t2 = time()\n",
        "print(f\"It took {t2-t1:.2f} seconds\")"
      ],
      "execution_count": null,
      "outputs": [
        {
          "output_type": "stream",
          "name": "stdout",
          "text": [
            "It took 0.98 seconds\n"
          ]
        }
      ]
    },
    {
      "cell_type": "code",
      "metadata": {
        "colab": {
          "base_uri": "https://localhost:8080/"
        },
        "id": "V24YlPMS0h0v",
        "outputId": "adb854e1-caf3-4171-943d-5283a1855d98"
      },
      "source": [
        "# %%time\n",
        "lr_model.fit(X_train, y_train)"
      ],
      "execution_count": null,
      "outputs": [
        {
          "output_type": "execute_result",
          "data": {
            "text/plain": [
              "GridSearchCV(cv=StratifiedShuffleSplit(n_splits=5, random_state=1234, test_size=None,\n",
              "            train_size=0.75),\n",
              "             error_score=nan,\n",
              "             estimator=LogisticRegression(C=1.0, class_weight=None, dual=False,\n",
              "                                          fit_intercept=True,\n",
              "                                          intercept_scaling=1, l1_ratio=None,\n",
              "                                          max_iter=10, multi_class='auto',\n",
              "                                          n_jobs=None, penalty='l2',\n",
              "                                          random_state=None, solver='lbfgs',\n",
              "                                          tol=0.0001, verbose=0,\n",
              "                                          warm_start=False),\n",
              "             iid='deprecated', n_jobs=None,\n",
              "             param_grid={'C': [1e-05, 5e-05, 0.0001, 0.0005, 0.001, 0.005],\n",
              "                         'penalty': ['l1', 'l2', 'elasticnet']},\n",
              "             pre_dispatch='2*n_jobs', refit=True, return_train_score=False,\n",
              "             scoring='recall', verbose=0)"
            ]
          },
          "metadata": {},
          "execution_count": 269
        }
      ]
    },
    {
      "cell_type": "code",
      "metadata": {
        "colab": {
          "base_uri": "https://localhost:8080/"
        },
        "id": "G4dP3u1kRufN",
        "outputId": "357a9ff3-d398-4923-fc4c-8c91667d4ced"
      },
      "source": [
        "lr_model.best_score_"
      ],
      "execution_count": null,
      "outputs": [
        {
          "output_type": "execute_result",
          "data": {
            "text/plain": [
              "0.8394900575071016"
            ]
          },
          "metadata": {},
          "execution_count": 250
        }
      ]
    },
    {
      "cell_type": "code",
      "metadata": {
        "colab": {
          "base_uri": "https://localhost:8080/"
        },
        "id": "XV9Tz4EZUgb3",
        "outputId": "5a94e288-66d6-49e5-d9bf-146fb7e78449"
      },
      "source": [
        "from sklearn.metrics import log_loss\n",
        "log_loss(y_test, lr_model.predict_proba(X_test)) #<! Pay attention, for log loss we use predict probability and not predict"
      ],
      "execution_count": null,
      "outputs": [
        {
          "output_type": "execute_result",
          "data": {
            "text/plain": [
              "0.7965491261374156"
            ]
          },
          "metadata": {},
          "execution_count": 251
        }
      ]
    },
    {
      "cell_type": "code",
      "metadata": {
        "colab": {
          "base_uri": "https://localhost:8080/"
        },
        "id": "Ztq_rNQkUsOV",
        "outputId": "27c6eb4e-2dea-466b-8a27-33a9b8218469"
      },
      "source": [
        "lr_model.best_params_\n"
      ],
      "execution_count": null,
      "outputs": [
        {
          "output_type": "execute_result",
          "data": {
            "text/plain": [
              "{'C': 1e-05, 'penalty': 'l2'}"
            ]
          },
          "metadata": {},
          "execution_count": 252
        }
      ]
    },
    {
      "cell_type": "markdown",
      "metadata": {
        "id": "9prMK7AwWG5r"
      },
      "source": [
        "אחרי שמצאנו את הערכים של הפרמטרים הכי טובים אפשר לעשות גריד על ערכים באיזור אלה שקיבלנו"
      ]
    },
    {
      "cell_type": "markdown",
      "metadata": {
        "id": "aE7D4svOALdF"
      },
      "source": [
        "##SVM"
      ]
    },
    {
      "cell_type": "markdown",
      "metadata": {
        "id": "vcqHatBho0gF"
      },
      "source": [
        "### SVM - Basic Classifier"
      ]
    },
    {
      "cell_type": "code",
      "metadata": {
        "colab": {
          "base_uri": "https://localhost:8080/"
        },
        "id": "H2c35vhEY7_M",
        "outputId": "36840dcd-c6d4-46a8-c7c1-3fbd52c6c766"
      },
      "source": [
        "# Simple SVC classifier only:\n",
        "\n",
        "# Defining the SVC classifier:\n",
        "clf_svc = SVC()\n",
        "clf_svc.fit(X_train, y_train)\n",
        "\n",
        "#Score  \n",
        "svc_score = clf_svc.score(X_train, y_train)\n",
        "svc_test = clf_svc.score(X_test, y_test)\n",
        "\n",
        "#testing model  \n",
        "y_pred = clf_svc.predict(X_test)\n",
        "\n",
        "#evaluation\n",
        "svc_cm = confusion_matrix(y_test,y_pred)\n",
        "print('Training Score',svc_score)\n",
        "print('Testing Score \\n',svc_test)\n",
        "print(svc_cm)"
      ],
      "execution_count": null,
      "outputs": [
        {
          "output_type": "stream",
          "name": "stdout",
          "text": [
            "Training Score 0.7666274278987639\n",
            "Testing Score \n",
            " 0.6919060052219321\n",
            "[[996 461]\n",
            " [ 11  64]]\n"
          ]
        }
      ]
    },
    {
      "cell_type": "markdown",
      "metadata": {
        "id": "q0tXYw0NolUP"
      },
      "source": [
        "### SVM - Cross Validation"
      ]
    },
    {
      "cell_type": "code",
      "metadata": {
        "colab": {
          "base_uri": "https://localhost:8080/"
        },
        "id": "x9d7rFUUnXMw",
        "outputId": "b26ab5da-e7ef-43d4-b616-7373df95aa37"
      },
      "source": [
        "# Using cross validation with the SVC \n",
        "\n",
        "k=7\n",
        "custom_iter = StratifiedShuffleSplit(n_splits=k, train_size=0.75, test_size=0.25)\n",
        "scores = cross_val_score(clf_svc, X_train, y_train, cv=custom_iter)\n",
        "\n",
        "print(\"Scores : \" + (k * \"{:.3f} \").format(*scores))"
      ],
      "execution_count": null,
      "outputs": [
        {
          "output_type": "stream",
          "name": "stdout",
          "text": [
            "Scores : 0.753 0.754 0.756 0.766 0.776 0.761 0.765 \n"
          ]
        }
      ]
    },
    {
      "cell_type": "markdown",
      "metadata": {
        "id": "_1hC9qiXou0a"
      },
      "source": [
        "### SVM - GridSearch"
      ]
    },
    {
      "cell_type": "code",
      "metadata": {
        "colab": {
          "base_uri": "https://localhost:8080/"
        },
        "id": "2nWLHllnni5s",
        "outputId": "60d8a20f-e397-4b03-f462-63779bbd2b67"
      },
      "source": [
        "# #Using grid search with SVC\n",
        "# %%time\n",
        "# param_grid = [\n",
        "#   {'C': [1, 10, 100], 'kernel': ['linear']},\n",
        "#   {'C': [1, 10, 100, 1000], 'gamma': [0.001, 0.0001], 'kernel': ['rbf']}\n",
        "#   ]\n",
        "\n",
        "# clf_svc_gs = GridSearchCV(SVC(), param_grid, cv=2)\n",
        "# clf_svc_gs.fit(X_train, y_train)\n",
        "\n",
        "# #presenting the results\n",
        "# print(\"Best parameters set found on development set:\\n\")\n",
        "# print(clf_svc_gs.best_params_,'\\n')\n",
        "# print(\"Grid scores on development set:\\n\")\n",
        "# means = clf_svc_gs.cv_results_['mean_test_score']\n",
        "# stds = clf_svc_gs.cv_results_['std_test_score']\n",
        "# for mean, std, params in zip(means, stds, clf_svc_gs.cv_results_['params']):\n",
        "#     print(\"%0.3f (+/-%0.03f) for %r\"\n",
        "#           % (mean, std * 2, params))\n",
        "# print(\"\\nDetailed classification report:\\n\")\n",
        "# print(\"The model is trained on the full development set.\")\n",
        "# print(\"The scores are computed on the full evaluation set.\\n\")\n",
        "# y_true, y_pred = y_test, clf_svc_gs.predict(X_test)\n",
        "# print(classification_report(y_true, y_pred))"
      ],
      "execution_count": null,
      "outputs": [
        {
          "name": "stdout",
          "output_type": "stream",
          "text": [
            "Best parameters set found on development set:\n",
            "\n",
            "{'C': 1000, 'gamma': 0.001, 'kernel': 'rbf'} \n",
            "\n",
            "Grid scores on development set:\n",
            "\n",
            "0.764 (+/-0.001) for {'C': 1, 'kernel': 'linear'}\n",
            "0.765 (+/-0.001) for {'C': 10, 'kernel': 'linear'}\n",
            "0.768 (+/-0.006) for {'C': 100, 'kernel': 'linear'}\n",
            "0.778 (+/-0.014) for {'C': 1, 'gamma': 0.001, 'kernel': 'rbf'}\n",
            "0.763 (+/-0.001) for {'C': 1, 'gamma': 0.0001, 'kernel': 'rbf'}\n",
            "0.782 (+/-0.010) for {'C': 10, 'gamma': 0.001, 'kernel': 'rbf'}\n",
            "0.771 (+/-0.013) for {'C': 10, 'gamma': 0.0001, 'kernel': 'rbf'}\n",
            "0.791 (+/-0.015) for {'C': 100, 'gamma': 0.001, 'kernel': 'rbf'}\n",
            "0.774 (+/-0.014) for {'C': 100, 'gamma': 0.0001, 'kernel': 'rbf'}\n",
            "0.815 (+/-0.017) for {'C': 1000, 'gamma': 0.001, 'kernel': 'rbf'}\n",
            "0.775 (+/-0.021) for {'C': 1000, 'gamma': 0.0001, 'kernel': 'rbf'}\n",
            "\n",
            "Detailed classification report:\n",
            "\n",
            "The model is trained on the full development set.\n",
            "The scores are computed on the full evaluation set.\n",
            "\n",
            "              precision    recall  f1-score   support\n",
            "\n",
            "           0       0.98      0.76      0.85      1457\n",
            "           1       0.13      0.68      0.21        75\n",
            "\n",
            "    accuracy                           0.75      1532\n",
            "   macro avg       0.55      0.72      0.53      1532\n",
            "weighted avg       0.94      0.75      0.82      1532\n",
            "\n",
            "CPU times: user 4min 36s, sys: 217 ms, total: 4min 36s\n",
            "Wall time: 4min 35s\n"
          ]
        }
      ]
    },
    {
      "cell_type": "markdown",
      "metadata": {
        "id": "xqJ_sX3ZoidR"
      },
      "source": [
        "After checking a few variations of hyperparameters changing using grid search - it seems that all parameters gives the same results.\n",
        "\n",
        "---"
      ]
    },
    {
      "cell_type": "markdown",
      "metadata": {
        "id": "LQZLnq-U4cUN"
      },
      "source": [
        "### Scaling using StandartScaler and using svc"
      ]
    },
    {
      "cell_type": "code",
      "metadata": {
        "id": "gDaabHL24bnr"
      },
      "source": [
        "# Scaling using Standard Scaler\n",
        "df = data.copy(deep=True)\n",
        "df = df.reset_index()\n",
        "# df.drop(columns='index')     # <--- this will give a great score!!!\n",
        "df = df.drop(columns='index')     # <--- this will give a normal score, why ???\n",
        "df2 = df[['avg_glucose_level','bmi','age']]\n",
        "\n",
        "std=StandardScaler()\n",
        "scaled_col = std.fit_transform(df2)\n",
        "scaled_col = pd.DataFrame(scaled_col,columns=['avg_glucose_level','bmi','age'])\n",
        "scaled_col.isna().sum()\n",
        "\n",
        "df=df.drop(columns=['avg_glucose_level','bmi','age'],axis=1)\n",
        "df=df.merge(scaled_col, left_index=True, right_index=True, how = \"left\")"
      ],
      "execution_count": null,
      "outputs": []
    },
    {
      "cell_type": "code",
      "metadata": {
        "id": "Pu8z2zCa4kJ2"
      },
      "source": [
        "# labale & feature seperation\n",
        "X2 = df.drop(columns='stroke')        # \n",
        "y2= df['stroke']\n",
        "\n",
        "#split train Test\n",
        "trainSize = 0.75\n",
        "randState = 990\n",
        "X2_train, X2_test, y2_train, y2_test = train_test_split(X2, y2, train_size = trainSize, random_state = randState, stratify=df.stroke)\n"
      ],
      "execution_count": null,
      "outputs": []
    },
    {
      "cell_type": "code",
      "metadata": {
        "colab": {
          "base_uri": "https://localhost:8080/"
        },
        "id": "DWyKsVvHMjK-",
        "outputId": "5e8c2f70-a959-46eb-b6c1-a523c00fd8ad"
      },
      "source": [
        "sum(y2_train)"
      ],
      "execution_count": null,
      "outputs": [
        {
          "output_type": "execute_result",
          "data": {
            "text/plain": [
              "187"
            ]
          },
          "metadata": {},
          "execution_count": 43
        }
      ]
    },
    {
      "cell_type": "code",
      "metadata": {
        "colab": {
          "base_uri": "https://localhost:8080/"
        },
        "id": "dBm_iROO4yhz",
        "outputId": "7547afde-a9a6-4729-a198-ad23995ee8a7"
      },
      "source": [
        "\n",
        "# Defining the SVC classifier:\n",
        "clf_scaled_svc = SVC(random_state=0)\n",
        "clf_scaled_svc.fit(X2_train, y2_train)\n",
        "\n",
        "#Score  \n",
        "scaled_svc_score = clf_scaled_svc.score(X2_train, y2_train)\n",
        "scaled_svc_test = clf_scaled_svc.score(X2_test, y2_test)\n",
        "\n",
        "#testing model  \n",
        "y2_pred = clf_scaled_svc.predict(X2_test)\n",
        "\n",
        "#evaluation\n",
        "scaled_svc_cm = confusion_matrix(y2_test,y2_pred)\n",
        "print('Training Score',scaled_svc_score)\n",
        "print('Testing Score \\n',scaled_svc_test)\n",
        "print(scaled_svc_cm)\n",
        "print(classification_report(y2_test, y2_pred))"
      ],
      "execution_count": null,
      "outputs": [
        {
          "output_type": "stream",
          "name": "stdout",
          "text": [
            "Training Score 0.9511494252873564\n",
            "Testing Score \n",
            " 0.95141065830721\n",
            "[[1214    0]\n",
            " [  62    0]]\n",
            "              precision    recall  f1-score   support\n",
            "\n",
            "           0       0.95      1.00      0.98      1214\n",
            "           1       0.00      0.00      0.00        62\n",
            "\n",
            "    accuracy                           0.95      1276\n",
            "   macro avg       0.48      0.50      0.49      1276\n",
            "weighted avg       0.91      0.95      0.93      1276\n",
            "\n"
          ]
        }
      ]
    },
    {
      "cell_type": "code",
      "metadata": {
        "id": "aZ7uRbGaUdL5"
      },
      "source": [
        ""
      ],
      "execution_count": null,
      "outputs": []
    },
    {
      "cell_type": "code",
      "metadata": {
        "colab": {
          "base_uri": "https://localhost:8080/"
        },
        "id": "lRYtFChK9O6V",
        "outputId": "2b2af852-4440-41be-c361-26903f0b90fd"
      },
      "source": [
        "# validating using Cross validation\n",
        "k=7\n",
        "custom_iter = StratifiedShuffleSplit(n_splits=k, train_size=0.75, test_size=0.25)\n",
        "scores = cross_val_score(clf_scaled_svc, X2_train, y2_train, cv=custom_iter)\n",
        "\n",
        "print(\"Scores : \" + (k * \"{:.3f} \").format(*scores))"
      ],
      "execution_count": null,
      "outputs": [
        {
          "name": "stdout",
          "output_type": "stream",
          "text": [
            "Scores : 0.951 0.951 0.951 0.951 0.951 0.951 0.951 \n"
          ]
        }
      ]
    },
    {
      "cell_type": "markdown",
      "metadata": {
        "id": "Kf5xt8gA70qU"
      },
      "source": [
        "much better score was achived after scaling"
      ]
    },
    {
      "cell_type": "markdown",
      "metadata": {
        "id": "bV9yP5IKNSWa"
      },
      "source": [
        "### Pipeline"
      ]
    },
    {
      "cell_type": "markdown",
      "metadata": {
        "id": "acp0kZAxuB6r"
      },
      "source": [
        "#### Simple Single pipeline"
      ]
    },
    {
      "cell_type": "code",
      "metadata": {
        "id": "jsYEbkqXNaF1",
        "colab": {
          "base_uri": "https://localhost:8080/"
        },
        "outputId": "846417c6-cceb-4619-f34a-34ce7b60c345"
      },
      "source": [
        "from sklearn.pipeline import Pipeline, FeatureUnion\n",
        "from sklearn.preprocessing import FunctionTransformer\n",
        "\n",
        "def get_cols_4_ss(df):\n",
        "    return df[['avg_glucose_level','bmi','age']]\n",
        "\n",
        "def get_non_trans_cols(df):\n",
        "    return df.drop(columns=['avg_glucose_level','bmi','age'])\n",
        "\n",
        "ss_selector = FunctionTransformer(func=get_cols_4_ss, validate=False)\n",
        "no_trans_selector = FunctionTransformer(func=get_non_trans_cols, validate=False)\n",
        "\n",
        "ss_pipeline = Pipeline([('ss_selector', ss_selector), ('ss', StandardScaler())])\n",
        "no_trans_pipeline = Pipeline([('no_trans_selector', no_trans_selector)])\n",
        "\n",
        "trans_pipeline = FeatureUnion([('non_transformed',no_trans_pipeline),\n",
        "                               ('ss_pipeline', ss_pipeline)])\n",
        "\n",
        "prepared_train = trans_pipeline.fit_transform(X_train)\n",
        "\n",
        "SVM_pipeline = Pipeline([('trans_pipeline', trans_pipeline),\n",
        "                          ('SVC', SVC(random_state=0))])\n",
        "\n",
        "# SVM_pipeline = Pipeline([('svc classifier', SVC(random_state=0))])\n",
        "SVM_CROSS_VAL = cross_val_score(SVM_pipeline,X_train,y_train,cv=10,scoring='f1')\n",
        "\n",
        "SVM_pipeline.fit(X_train, y_train)\n",
        "y_train_pred = SVM_pipeline.predict(X_train)\n",
        "y_test_pred = SVM_pipeline.predict(X_test)\n",
        "SVM_pipeline.score(X_train, y_train)\n",
        "# f1_score(y_train, y_train_pred)"
      ],
      "execution_count": null,
      "outputs": [
        {
          "output_type": "execute_result",
          "data": {
            "text/plain": [
              "0.9301059446733373"
            ]
          },
          "metadata": {},
          "execution_count": 63
        }
      ]
    },
    {
      "cell_type": "markdown",
      "metadata": {
        "id": "KWH8Aa0kNjeq"
      },
      "source": [
        "#### Multiple pipelines\n",
        "\n",
        "SVM\n",
        "\n",
        "StandardScaler -> SVM\n",
        "\n",
        "OverSampling -> SVM\n",
        "\n",
        "OverSampling -> StandardScaler -> SVM\n",
        "\n",
        "SelectKBest -> OverSampling -> StandardScaler -> SVM\n",
        "\n"
      ]
    },
    {
      "cell_type": "code",
      "metadata": {
        "id": "RXRKmTItG0WF"
      },
      "source": [
        "from numpy import mean\n",
        "from sklearn.model_selection import RepeatedStratifiedKFold\n",
        "from sklearn.tree import DecisionTreeClassifier\n",
        "from imblearn.pipeline import Pipeline\n",
        "from imblearn.over_sampling import SMOTE\n",
        "from sklearn.metrics import make_scorer, fbeta_score, matthews_corrcoef, balanced_accuracy_score\n",
        "from sklearn.model_selection import cross_val_score\n"
      ],
      "execution_count": null,
      "outputs": []
    },
    {
      "cell_type": "code",
      "metadata": {
        "id": "ocmWditm2Tlw"
      },
      "source": [
        "from sklearn.model_selection import cross_validate"
      ],
      "execution_count": null,
      "outputs": []
    },
    {
      "cell_type": "code",
      "metadata": {
        "id": "W2N5KJknI4Yj"
      },
      "source": [
        "# define scoring functions:\n",
        "ftwo_scorer = make_scorer(fbeta_score, beta=2)\n",
        "mcc_scorer = make_scorer(matthews_corrcoef)\n",
        "Bal_acc_scorer = make_scorer(balanced_accuracy_score)\n",
        "\n",
        "scoring = {'AUC': 'roc_auc', 'Ballanced Accuracy': Bal_acc_scorer, 'F_2 score':ftwo_scorer, 'MCC':mcc_scorer}"
      ],
      "execution_count": null,
      "outputs": []
    },
    {
      "cell_type": "code",
      "metadata": {
        "id": "jlJHvWrboyTf"
      },
      "source": [
        "# define pipeline\n",
        "clf_svc = SVC(C = 1000, gamma= 0.001, kernel= 'rbf')\n",
        "clf_LR = lr_model\n",
        "\n",
        "steps = [('model', clf_svc)]\n",
        "steps2 = [('trans_pipeline', trans_pipeline),('model', clf_svc)]\n",
        "steps3 = [('trans_pipeline', trans_pipeline),('over', SMOTE()), ('model', clf_svc)]\n",
        "steps4 = [('model', clf_LR)]\n",
        "steps5 = [('trans_pipeline', trans_pipeline),('model', clf_LR)]\n",
        "steps6 = [('trans_pipeline', trans_pipeline),('over', SMOTE()), ('model', clf_LR)]\n",
        "\n",
        "pipeline = Pipeline(steps=steps)\n",
        "pipeline2 = Pipeline(steps=steps2)\n",
        "pipeline3 = Pipeline(steps=steps3)\n",
        "pipeline4 = Pipeline(steps=steps4)\n",
        "pipeline5 = Pipeline(steps=steps5)\n",
        "pipeline6 = Pipeline(steps=steps6)\n",
        "\n",
        "# evaluate pipeline\n",
        "cv = RepeatedStratifiedKFold(n_splits=5, n_repeats=2, random_state=1)\n",
        "# scores = cross_validate(pipeline, X, y, scoring=scoring, cv=cv, n_jobs=-1)\n",
        "# print('Mean ROC AUC: %.3f' % mean(scores))\n",
        "# scores"
      ],
      "execution_count": null,
      "outputs": []
    },
    {
      "cell_type": "code",
      "metadata": {
        "id": "n9OrWr7_4f4N"
      },
      "source": [
        "def get_scores_array(scores):\n",
        "  results_arr = np.zeros((1,len(scoring)+2), dtype=float)\n",
        "  for ii, (key, val) in enumerate(scores.items()):\n",
        "    results_arr[:, ii]=val.mean()\n",
        "  \n",
        "  return results_arr[:,2:]"
      ],
      "execution_count": null,
      "outputs": []
    },
    {
      "cell_type": "code",
      "metadata": {
        "colab": {
          "base_uri": "https://localhost:8080/",
          "height": 235
        },
        "id": "Y5Gdf3ITzK59",
        "outputId": "0c84e6a6-52c3-412e-a9b9-240bd24e08da"
      },
      "source": [
        "pipes      = [pipeline, pipeline2, pipeline3, pipeline4, pipeline5, pipeline6]\n",
        "pipesString = ['SVM only', \"SVM Scaled\", \"SVM scaled and oversampled\",'LogisticRegression','LR scaled','LR scaled and oversampled']\n",
        "\n",
        "\n",
        "scoringResults = np.zeros((len(pipes), len(scoring)), dtype=float)\n",
        "\n",
        "for ii, ipipe in enumerate(pipes):\n",
        "  scoringResults[ii, :] = get_scores_array(cross_validate(ipipe, X, y, scoring=scoring, cv=cv, n_jobs=-1))\n",
        "\n",
        "scoringResults\n",
        "model_scores = pd.DataFrame(data = scoringResults, index = pipesString ,columns = scoring.keys())\n",
        "model_scores"
      ],
      "execution_count": null,
      "outputs": [
        {
          "output_type": "execute_result",
          "data": {
            "text/html": [
              "<div>\n",
              "<style scoped>\n",
              "    .dataframe tbody tr th:only-of-type {\n",
              "        vertical-align: middle;\n",
              "    }\n",
              "\n",
              "    .dataframe tbody tr th {\n",
              "        vertical-align: top;\n",
              "    }\n",
              "\n",
              "    .dataframe thead th {\n",
              "        text-align: right;\n",
              "    }\n",
              "</style>\n",
              "<table border=\"1\" class=\"dataframe\">\n",
              "  <thead>\n",
              "    <tr style=\"text-align: right;\">\n",
              "      <th></th>\n",
              "      <th>AUC</th>\n",
              "      <th>Ballanced Accuracy</th>\n",
              "      <th>F_2 score</th>\n",
              "      <th>MCC</th>\n",
              "    </tr>\n",
              "  </thead>\n",
              "  <tbody>\n",
              "    <tr>\n",
              "      <th>SVM only</th>\n",
              "      <td>0.696863</td>\n",
              "      <td>0.513015</td>\n",
              "      <td>0.042330</td>\n",
              "      <td>0.050684</td>\n",
              "    </tr>\n",
              "    <tr>\n",
              "      <th>SVM Scaled</th>\n",
              "      <td>0.737137</td>\n",
              "      <td>0.500000</td>\n",
              "      <td>0.000000</td>\n",
              "      <td>0.000000</td>\n",
              "    </tr>\n",
              "    <tr>\n",
              "      <th>SVM scaled and oversampled</th>\n",
              "      <td>0.825062</td>\n",
              "      <td>0.752457</td>\n",
              "      <td>0.381831</td>\n",
              "      <td>0.235627</td>\n",
              "    </tr>\n",
              "    <tr>\n",
              "      <th>LogisticRegression</th>\n",
              "      <td>0.532254</td>\n",
              "      <td>0.500434</td>\n",
              "      <td>0.002451</td>\n",
              "      <td>0.001964</td>\n",
              "    </tr>\n",
              "    <tr>\n",
              "      <th>LR scaled</th>\n",
              "      <td>0.822732</td>\n",
              "      <td>0.500000</td>\n",
              "      <td>0.000000</td>\n",
              "      <td>0.000000</td>\n",
              "    </tr>\n",
              "    <tr>\n",
              "      <th>LR scaled and oversampled</th>\n",
              "      <td>0.837962</td>\n",
              "      <td>0.764384</td>\n",
              "      <td>0.393143</td>\n",
              "      <td>0.247004</td>\n",
              "    </tr>\n",
              "  </tbody>\n",
              "</table>\n",
              "</div>"
            ],
            "text/plain": [
              "                                 AUC  Ballanced Accuracy  F_2 score       MCC\n",
              "SVM only                    0.696863            0.513015   0.042330  0.050684\n",
              "SVM Scaled                  0.737137            0.500000   0.000000  0.000000\n",
              "SVM scaled and oversampled  0.825062            0.752457   0.381831  0.235627\n",
              "LogisticRegression          0.532254            0.500434   0.002451  0.001964\n",
              "LR scaled                   0.822732            0.500000   0.000000  0.000000\n",
              "LR scaled and oversampled   0.837962            0.764384   0.393143  0.247004"
            ]
          },
          "metadata": {},
          "execution_count": 174
        }
      ]
    },
    {
      "cell_type": "markdown",
      "metadata": {
        "id": "L_LUNW3ZAeXg"
      },
      "source": [
        "##Random Forest"
      ]
    },
    {
      "cell_type": "code",
      "metadata": {
        "colab": {
          "base_uri": "https://localhost:8080/",
          "height": 991
        },
        "id": "PYEi_Q-NOjnJ",
        "outputId": "5f4b8441-7613-49d5-a075-0c30f65db305"
      },
      "source": [
        "\n",
        "# RandomForest \n",
        "\n",
        "#Fitting RandomForest Model\n",
        "classifier = RandomForestClassifier(criterion= 'gini', n_estimators= 100, random_state= 0)\n",
        "classifier.fit(X_train_res, y_train_res)\n",
        "y_pred = classifier.predict(X_test)\n",
        "y_prob = classifier.predict_proba(X_test)[:,1]\n",
        "cm = confusion_matrix(y_test, y_pred)\n",
        "\n",
        "print(classification_report(y_test, y_pred))\n",
        "print(f'ROC AUC score: {roc_auc_score(y_test, y_prob)}')\n",
        "print('Accuracy Score: ',accuracy_score(y_test, y_pred))\n",
        "\n",
        "# Visualizing Confusion Matrix\n",
        "plt.figure(figsize = (8, 5))\n",
        "sns.heatmap(cm, cmap = 'Blues', annot = True, fmt = 'd', linewidths = 5, cbar = False, annot_kws = {'fontsize': 15}, \n",
        "            yticklabels = ['No stroke', 'Stroke'], xticklabels = ['Predicted no stroke', 'Predicted stroke'])\n",
        "plt.yticks(rotation = 0)\n",
        "plt.show()\n",
        "\n",
        "# Roc AUC Curve\n",
        "false_positive_rate, true_positive_rate, thresholds = roc_curve(y_test, y_prob)\n",
        "roc_auc = auc(false_positive_rate, true_positive_rate)\n",
        "\n",
        "sns.set_theme(style = 'white')\n",
        "plt.figure(figsize = (8, 8))\n",
        "plt.plot(false_positive_rate,true_positive_rate, color = '#b01717', label = 'AUC = %0.3f' % roc_auc)\n",
        "plt.legend(loc = 'lower right')\n",
        "plt.plot([0, 1], [0, 1], linestyle = '--', color = '#174ab0')\n",
        "plt.axis('tight')\n",
        "plt.ylabel('True Positive Rate')\n",
        "plt.xlabel('False Positive Rate')\n",
        "plt.legend()\n",
        "plt.show()"
      ],
      "execution_count": null,
      "outputs": [
        {
          "name": "stdout",
          "output_type": "stream",
          "text": [
            "              precision    recall  f1-score   support\n",
            "\n",
            "           0       0.95      0.99      0.97      1457\n",
            "           1       0.00      0.00      0.00        75\n",
            "\n",
            "    accuracy                           0.95      1532\n",
            "   macro avg       0.48      0.50      0.49      1532\n",
            "weighted avg       0.90      0.95      0.92      1532\n",
            "\n",
            "ROC AUC score: 0.7895676046671242\n",
            "Accuracy Score:  0.945822454308094\n"
          ]
        },
        {
          "data": {
            "image/png": "[encoded data removed]",
            "text/plain": [
              "<Figure size 576x360 with 1 Axes>"
            ]
          },
          "metadata": {},
          "output_type": "display_data"
        },
        {
          "data": {
            "image/png": "[encoded data removed]",
            "text/plain": [
              "<Figure size 576x576 with 1 Axes>"
            ]
          },
          "metadata": {},
          "output_type": "display_data"
        }
      ]
    },
    {
      "cell_type": "markdown",
      "metadata": {
        "id": "7AoMdss4GNH5"
      },
      "source": [
        "# Model Comparison\n",
        "\n"
      ]
    },
    {
      "cell_type": "code",
      "metadata": {
        "id": "0mOScpAfyEzj"
      },
      "source": [
        "#split train Test\n",
        "X_train, X_test, y_train, y_test = train_test_split(X, y, test_size=0.3, stratify=data.stroke, random_state=1234)"
      ],
      "execution_count": null,
      "outputs": []
    },
    {
      "cell_type": "code",
      "metadata": {
        "colab": {
          "base_uri": "https://localhost:8080/"
        },
        "id": "tlkT24qoL2Wt",
        "outputId": "58a5d593-2083-4711-88e6-efcb91e8341d"
      },
      "source": [
        "models = []\n",
        "models.append(['Logistic Regreesion', LogisticRegression(random_state=0)])\n",
        "models.append(['SVM', SVC(random_state=0)])\n",
        "models.append(['Random Forest', RandomForestClassifier(random_state=0)])\n",
        "\n",
        "\n",
        "lst_1= []\n",
        "\n",
        "for m in range(len(models)):\n",
        "    lst_2= []\n",
        "    model = models[m][1]\n",
        "    model.fit(X_train_res, y_train_res)\n",
        "    y_pred = model.predict(X_test)\n",
        "    cm = confusion_matrix(y_test, y_pred)  #Confusion Matrix\n",
        "    accuracies = cross_val_score(estimator = model, X = X_train_res, y = y_train_res, cv = 10)   #K-Fold Validation\n",
        "    roc = roc_auc_score(y_test, y_pred)  #ROC AUC Score\n",
        "    precision = precision_score(y_test, y_pred)  #Precision Score\n",
        "    recall = recall_score(y_test, y_pred)  #Recall Score\n",
        "    f1 = f1_score(y_test, y_pred)  #F1 Score\n",
        "    print(models[m][0],':')\n",
        "    print(cm)\n",
        "    print('Accuracy Score: ',accuracy_score(y_test, y_pred))\n",
        "    print('')\n",
        "    print(\"K-Fold Validation Mean Accuracy: {:.2f} %\".format(accuracies.mean()*100))\n",
        "    print('')\n",
        "    print(\"Standard Deviation: {:.2f} %\".format(accuracies.std()*100))\n",
        "    print('')\n",
        "    print('ROC AUC Score: {:.2f}'.format(roc))\n",
        "    print('')\n",
        "    print('Precision: {:.2f}'.format(precision))\n",
        "    print('')\n",
        "    print('Recall: {:.2f}'.format(recall))\n",
        "    print('')\n",
        "    print('F1: {:.2f}'.format(f1))\n",
        "    print('-----------------------------------')\n",
        "    print('')\n",
        "    lst_2.append(models[m][0])\n",
        "    lst_2.append((accuracy_score(y_test, y_pred))*100) \n",
        "    lst_2.append(accuracies.mean()*100)\n",
        "    lst_2.append(accuracies.std()*100)\n",
        "    lst_2.append(roc)\n",
        "    lst_2.append(precision)\n",
        "    lst_2.append(recall)\n",
        "    lst_2.append(f1)\n",
        "    lst_1.append(lst_2)"
      ],
      "execution_count": null,
      "outputs": [
        {
          "output_type": "stream",
          "name": "stdout",
          "text": [
            "SVM :\n",
            "[[996 461]\n",
            " [ 11  64]]\n",
            "Accuracy Score:  0.6919060052219321\n",
            "\n",
            "K-Fold Validation Mean Accuracy: 76.53 %\n",
            "\n",
            "Standard Deviation: 1.16 %\n",
            "\n",
            "ROC AUC Score: 0.77\n",
            "\n",
            "Precision: 0.12\n",
            "\n",
            "Recall: 0.85\n",
            "\n",
            "F1: 0.21\n",
            "-----------------------------------\n",
            "\n",
            "Random Forest :\n",
            "[[1449    8]\n",
            " [  75    0]]\n",
            "Accuracy Score:  0.945822454308094\n",
            "\n",
            "K-Fold Validation Mean Accuracy: 97.29 %\n",
            "\n",
            "Standard Deviation: 6.99 %\n",
            "\n",
            "ROC AUC Score: 0.50\n",
            "\n",
            "Precision: 0.00\n",
            "\n",
            "Recall: 0.00\n",
            "\n",
            "F1: 0.00\n",
            "-----------------------------------\n",
            "\n"
          ]
        }
      ]
    },
    {
      "cell_type": "code",
      "metadata": {
        "colab": {
          "base_uri": "https://localhost:8080/",
          "height": 49
        },
        "id": "y5P0r97wNqiH",
        "outputId": "e0fdf1bf-4009-45c7-f3b0-bfa78db47c96"
      },
      "source": [
        "df = pd.DataFrame(lst_1, columns= ['Model', 'Accuracy', 'K-Fold Mean Accuracy', 'Std. Deviation', 'ROC AUC', 'Precision', 'Recall', 'F1'])\n",
        "df.sort_values(by= ['Accuracy', 'K-Fold Mean Accuracy'], inplace= True, ascending= False)\n",
        "df"
      ],
      "execution_count": null,
      "outputs": [
        {
          "data": {
            "text/html": [
              "<div>\n",
              "<style scoped>\n",
              "    .dataframe tbody tr th:only-of-type {\n",
              "        vertical-align: middle;\n",
              "    }\n",
              "\n",
              "    .dataframe tbody tr th {\n",
              "        vertical-align: top;\n",
              "    }\n",
              "\n",
              "    .dataframe thead th {\n",
              "        text-align: right;\n",
              "    }\n",
              "</style>\n",
              "<table border=\"1\" class=\"dataframe\">\n",
              "  <thead>\n",
              "    <tr style=\"text-align: right;\">\n",
              "      <th></th>\n",
              "      <th>Model</th>\n",
              "      <th>Accuracy</th>\n",
              "      <th>K-Fold Mean Accuracy</th>\n",
              "      <th>Std. Deviation</th>\n",
              "      <th>ROC AUC</th>\n",
              "      <th>Precision</th>\n",
              "      <th>Recall</th>\n",
              "      <th>F1</th>\n",
              "    </tr>\n",
              "  </thead>\n",
              "  <tbody>\n",
              "  </tbody>\n",
              "</table>\n",
              "</div>"
            ],
            "text/plain": [
              "Empty DataFrame\n",
              "Columns: [Model, Accuracy, K-Fold Mean Accuracy, Std. Deviation, ROC AUC, Precision, Recall, F1]\n",
              "Index: []"
            ]
          },
          "execution_count": 467,
          "metadata": {},
          "output_type": "execute_result"
        }
      ]
    },
    {
      "cell_type": "code",
      "metadata": {
        "id": "zvd3_ZvjpfOO"
      },
      "source": [
        "from sklearn.model_selection import GridSearchCV\n",
        "\n",
        "grid_models = [(LogisticRegression(),[{'C':[0.25,0.5,0.75,1],'random_state':[0]}]), \n",
        "               (SVC(),[{'C':[0.25,0.5,0.75,1],'kernel':['linear', 'rbf'],'random_state':[0]}]), \n",
        "               (RandomForestClassifier(),[{'n_estimators':[100,150,200],'criterion':['gini','entropy'],'random_state':[0]}]), \n",
        "            "
      ],
      "execution_count": null,
      "outputs": []
    },
    {
      "cell_type": "code",
      "metadata": {
        "id": "7G7lCfzAphk3"
      },
      "source": [
        "for i,j in grid_models:\n",
        "    grid = GridSearchCV(estimator=i,param_grid = j, scoring = 'accuracy',cv = 10)\n",
        "    grid.fit(x_train_res, y_train_res)\n",
        "    best_accuracy = grid.best_score_\n",
        "    best_param = grid.best_params_\n",
        "    print('{}:\\nBest Accuracy : {:.2f}%'.format(i,best_accuracy*100))\n",
        "    print('Best Parameters : ',best_param)\n",
        "    print('')\n",
        "    print('----------------')\n",
        "    print('')"
      ],
      "execution_count": null,
      "outputs": []
    },
    {
      "cell_type": "markdown",
      "metadata": {
        "id": "WyE1dqLqFy-x"
      },
      "source": [
        "#Summery\n",
        "\n",
        "included in the presentation\n"
      ]
    }
  ]
}